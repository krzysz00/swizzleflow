{
 "cells": [
  {
   "cell_type": "markdown",
   "metadata": {},
   "source": [
    "Note, this is some general noodling around with the multiply data.\n",
    "\n",
    "Nothing much of note here"
   ]
  },
  {
   "cell_type": "code",
   "execution_count": null,
   "metadata": {},
   "outputs": [],
   "source": [
    "# initial setup\n",
    "import sys\n",
    "sys.path.append(\"../analysis\")"
   ]
  },
  {
   "cell_type": "code",
   "execution_count": 2,
   "metadata": {},
   "outputs": [],
   "source": [
    "import parsing\n",
    "import extraction\n",
    "\n",
    "from parsing import parse_file\n",
    "from extraction import humanize_names, expand_target_checks, pull_spec_in"
   ]
  },
  {
   "cell_type": "code",
   "execution_count": 3,
   "metadata": {},
   "outputs": [],
   "source": [
    "%matplotlib widget"
   ]
  },
  {
   "cell_type": "code",
   "execution_count": 4,
   "metadata": {},
   "outputs": [],
   "source": [
    "import pandas as pd\n",
    "import numpy as np\n",
    "\n",
    "import itertools\n",
    "\n",
    "import matplotlib.pyplot as plt"
   ]
  },
  {
   "cell_type": "code",
   "execution_count": 5,
   "metadata": {},
   "outputs": [],
   "source": [
    "def fetch(dataset):\n",
    "    return humanize_names(parse_file(f\"../results/{dataset}\"))"
   ]
  },
  {
   "cell_type": "code",
   "execution_count": 6,
   "metadata": {},
   "outputs": [],
   "source": [
    "raw_data = fetch(\"2020-04-26-timings-for-initial-quals-eval\")\n",
    "stencil_5_raw_data = fetch(\"2020-04-27-2d-stencil-5-timings\")"
   ]
  },
  {
   "cell_type": "code",
   "execution_count": 7,
   "metadata": {},
   "outputs": [],
   "source": [
    "data_3 = extraction.matrix_stats(raw_data['l3/2d-stencil-3'])\n",
    "data_5 = extraction.matrix_stats(stencil_5_raw_data['l3/2d-stencil-5'])"
   ]
  },
  {
   "cell_type": "code",
   "execution_count": 8,
   "metadata": {},
   "outputs": [
    {
     "data": {
      "text/html": [
       "<div>\n",
       "<style scoped>\n",
       "    .dataframe tbody tr th:only-of-type {\n",
       "        vertical-align: middle;\n",
       "    }\n",
       "\n",
       "    .dataframe tbody tr th {\n",
       "        vertical-align: top;\n",
       "    }\n",
       "\n",
       "    .dataframe thead th {\n",
       "        text-align: right;\n",
       "    }\n",
       "</style>\n",
       "<table border=\"1\" class=\"dataframe\">\n",
       "  <thead>\n",
       "    <tr style=\"text-align: right;\">\n",
       "      <th></th>\n",
       "      <th>category</th>\n",
       "      <th>key</th>\n",
       "      <th>density</th>\n",
       "      <th>time</th>\n",
       "    </tr>\n",
       "  </thead>\n",
       "  <tbody>\n",
       "    <tr>\n",
       "      <th>0</th>\n",
       "      <td>load</td>\n",
       "      <td>matrices/4,4-identity-4,4,3,3</td>\n",
       "      <td>0.003906</td>\n",
       "      <td>0.001867</td>\n",
       "    </tr>\n",
       "    <tr>\n",
       "      <th>1</th>\n",
       "      <td>build</td>\n",
       "      <td>matrices/4,4,3,3-2s-r{main[1]out[1]second[3]}-...</td>\n",
       "      <td>0.000217</td>\n",
       "      <td>0.023763</td>\n",
       "    </tr>\n",
       "    <tr>\n",
       "      <th>2</th>\n",
       "      <td>mul</td>\n",
       "      <td>matrices/4,4-identity_4,4,3,3-2s-r{main[1]out[...</td>\n",
       "      <td>0.017578</td>\n",
       "      <td>1.325192</td>\n",
       "    </tr>\n",
       "    <tr>\n",
       "      <th>3</th>\n",
       "      <td>build</td>\n",
       "      <td>matrices/4,4,3,3-2s-xf{main[1]out[1]second[3]}...</td>\n",
       "      <td>0.000315</td>\n",
       "      <td>0.036831</td>\n",
       "    </tr>\n",
       "    <tr>\n",
       "      <th>4</th>\n",
       "      <td>mul</td>\n",
       "      <td>matrices/4,4-identity_4,4,3,3-2s-r{main[1]out[...</td>\n",
       "      <td>0.050456</td>\n",
       "      <td>3.800430</td>\n",
       "    </tr>\n",
       "    <tr>\n",
       "      <th>5</th>\n",
       "      <td>build</td>\n",
       "      <td>matrices/4,4,3,3-2s-r{main[0]out[0]second[2]}-...</td>\n",
       "      <td>0.000217</td>\n",
       "      <td>0.023861</td>\n",
       "    </tr>\n",
       "    <tr>\n",
       "      <th>6</th>\n",
       "      <td>mul</td>\n",
       "      <td>matrices/4,4-identity_4,4,3,3-2s-r{main[1]out[...</td>\n",
       "      <td>0.227051</td>\n",
       "      <td>1.786516</td>\n",
       "    </tr>\n",
       "    <tr>\n",
       "      <th>7</th>\n",
       "      <td>build</td>\n",
       "      <td>matrices/4,4,3,3-2s-xf{main[0]out[0]second[2]}...</td>\n",
       "      <td>0.000315</td>\n",
       "      <td>0.037701</td>\n",
       "    </tr>\n",
       "    <tr>\n",
       "      <th>8</th>\n",
       "      <td>mul</td>\n",
       "      <td>matrices/4,4-identity_4,4,3,3-2s-r{main[1]out[...</td>\n",
       "      <td>0.651720</td>\n",
       "      <td>1.788620</td>\n",
       "    </tr>\n",
       "    <tr>\n",
       "      <th>9</th>\n",
       "      <td>load</td>\n",
       "      <td>matrices/4,4,3,3-2s-g{axis[3]dims[1|3]}-4,4,3,2</td>\n",
       "      <td>0.000416</td>\n",
       "      <td>0.065753</td>\n",
       "    </tr>\n",
       "    <tr>\n",
       "      <th>10</th>\n",
       "      <td>mul</td>\n",
       "      <td>matrices/4,4-identity_4,4,3,3-2s-r{main[1]out[...</td>\n",
       "      <td>0.807292</td>\n",
       "      <td>0.791570</td>\n",
       "    </tr>\n",
       "  </tbody>\n",
       "</table>\n",
       "</div>"
      ],
      "text/plain": [
       "   category                                                key   density  \\\n",
       "0      load                      matrices/4,4-identity-4,4,3,3  0.003906   \n",
       "1     build  matrices/4,4,3,3-2s-r{main[1]out[1]second[3]}-...  0.000217   \n",
       "2       mul  matrices/4,4-identity_4,4,3,3-2s-r{main[1]out[...  0.017578   \n",
       "3     build  matrices/4,4,3,3-2s-xf{main[1]out[1]second[3]}...  0.000315   \n",
       "4       mul  matrices/4,4-identity_4,4,3,3-2s-r{main[1]out[...  0.050456   \n",
       "5     build  matrices/4,4,3,3-2s-r{main[0]out[0]second[2]}-...  0.000217   \n",
       "6       mul  matrices/4,4-identity_4,4,3,3-2s-r{main[1]out[...  0.227051   \n",
       "7     build  matrices/4,4,3,3-2s-xf{main[0]out[0]second[2]}...  0.000315   \n",
       "8       mul  matrices/4,4-identity_4,4,3,3-2s-r{main[1]out[...  0.651720   \n",
       "9      load    matrices/4,4,3,3-2s-g{axis[3]dims[1|3]}-4,4,3,2  0.000416   \n",
       "10      mul  matrices/4,4-identity_4,4,3,3-2s-r{main[1]out[...  0.807292   \n",
       "\n",
       "        time  \n",
       "0   0.001867  \n",
       "1   0.023763  \n",
       "2   1.325192  \n",
       "3   0.036831  \n",
       "4   3.800430  \n",
       "5   0.023861  \n",
       "6   1.786516  \n",
       "7   0.037701  \n",
       "8   1.788620  \n",
       "9   0.065753  \n",
       "10  0.791570  "
      ]
     },
     "execution_count": 8,
     "metadata": {},
     "output_type": "execute_result"
    }
   ],
   "source": [
    "data_3"
   ]
  },
  {
   "cell_type": "code",
   "execution_count": 9,
   "metadata": {},
   "outputs": [
    {
     "data": {
      "text/html": [
       "<div>\n",
       "<style scoped>\n",
       "    .dataframe tbody tr th:only-of-type {\n",
       "        vertical-align: middle;\n",
       "    }\n",
       "\n",
       "    .dataframe tbody tr th {\n",
       "        vertical-align: top;\n",
       "    }\n",
       "\n",
       "    .dataframe thead th {\n",
       "        text-align: right;\n",
       "    }\n",
       "</style>\n",
       "<table border=\"1\" class=\"dataframe\">\n",
       "  <thead>\n",
       "    <tr style=\"text-align: right;\">\n",
       "      <th></th>\n",
       "      <th>category</th>\n",
       "      <th>key</th>\n",
       "      <th>density</th>\n",
       "      <th>time</th>\n",
       "    </tr>\n",
       "  </thead>\n",
       "  <tbody>\n",
       "    <tr>\n",
       "      <th>0</th>\n",
       "      <td>load</td>\n",
       "      <td>matrices/4,4-identity-4,4,5,5</td>\n",
       "      <td>0.003906</td>\n",
       "      <td>0.018067</td>\n",
       "    </tr>\n",
       "    <tr>\n",
       "      <th>1</th>\n",
       "      <td>build</td>\n",
       "      <td>matrices/4,4,5,5-2s-r{main[1]out[1]second[3]}-...</td>\n",
       "      <td>0.000028</td>\n",
       "      <td>0.377566</td>\n",
       "    </tr>\n",
       "    <tr>\n",
       "      <th>2</th>\n",
       "      <td>mul</td>\n",
       "      <td>matrices/4,4-identity_4,4,5,5-2s-r{main[1]out[...</td>\n",
       "      <td>0.017578</td>\n",
       "      <td>81.277744</td>\n",
       "    </tr>\n",
       "    <tr>\n",
       "      <th>3</th>\n",
       "      <td>build</td>\n",
       "      <td>matrices/4,4,5,5-2s-xf{main[1]out[1]second[3]}...</td>\n",
       "      <td>0.000042</td>\n",
       "      <td>0.635898</td>\n",
       "    </tr>\n",
       "    <tr>\n",
       "      <th>4</th>\n",
       "      <td>mul</td>\n",
       "      <td>matrices/4,4-identity_4,4,5,5-2s-r{main[1]out[...</td>\n",
       "      <td>0.051875</td>\n",
       "      <td>462.162612</td>\n",
       "    </tr>\n",
       "    <tr>\n",
       "      <th>5</th>\n",
       "      <td>build</td>\n",
       "      <td>matrices/4,4,5,5-2s-r{main[0]out[0]second[2]}-...</td>\n",
       "      <td>0.000028</td>\n",
       "      <td>0.606631</td>\n",
       "    </tr>\n",
       "    <tr>\n",
       "      <th>6</th>\n",
       "      <td>mul</td>\n",
       "      <td>matrices/4,4-identity_4,4,5,5-2s-r{main[1]out[...</td>\n",
       "      <td>0.233437</td>\n",
       "      <td>384.749273</td>\n",
       "    </tr>\n",
       "    <tr>\n",
       "      <th>7</th>\n",
       "      <td>build</td>\n",
       "      <td>matrices/4,4,5,5-2s-xf{main[0]out[0]second[2]}...</td>\n",
       "      <td>0.000042</td>\n",
       "      <td>0.756580</td>\n",
       "    </tr>\n",
       "    <tr>\n",
       "      <th>8</th>\n",
       "      <td>mul</td>\n",
       "      <td>matrices/4,4-identity_4,4,5,5-2s-r{main[1]out[...</td>\n",
       "      <td>0.688900</td>\n",
       "      <td>332.450648</td>\n",
       "    </tr>\n",
       "    <tr>\n",
       "      <th>9</th>\n",
       "      <td>build</td>\n",
       "      <td>matrices/4,4,5,5-2s-g{axis[3]dims[1|3]}-4,4,5,2</td>\n",
       "      <td>0.000152</td>\n",
       "      <td>1.177773</td>\n",
       "    </tr>\n",
       "    <tr>\n",
       "      <th>10</th>\n",
       "      <td>mul</td>\n",
       "      <td>matrices/4,4-identity_4,4,5,5-2s-r{main[1]out[...</td>\n",
       "      <td>0.830000</td>\n",
       "      <td>60.786790</td>\n",
       "    </tr>\n",
       "  </tbody>\n",
       "</table>\n",
       "</div>"
      ],
      "text/plain": [
       "   category                                                key   density  \\\n",
       "0      load                      matrices/4,4-identity-4,4,5,5  0.003906   \n",
       "1     build  matrices/4,4,5,5-2s-r{main[1]out[1]second[3]}-...  0.000028   \n",
       "2       mul  matrices/4,4-identity_4,4,5,5-2s-r{main[1]out[...  0.017578   \n",
       "3     build  matrices/4,4,5,5-2s-xf{main[1]out[1]second[3]}...  0.000042   \n",
       "4       mul  matrices/4,4-identity_4,4,5,5-2s-r{main[1]out[...  0.051875   \n",
       "5     build  matrices/4,4,5,5-2s-r{main[0]out[0]second[2]}-...  0.000028   \n",
       "6       mul  matrices/4,4-identity_4,4,5,5-2s-r{main[1]out[...  0.233437   \n",
       "7     build  matrices/4,4,5,5-2s-xf{main[0]out[0]second[2]}...  0.000042   \n",
       "8       mul  matrices/4,4-identity_4,4,5,5-2s-r{main[1]out[...  0.688900   \n",
       "9     build    matrices/4,4,5,5-2s-g{axis[3]dims[1|3]}-4,4,5,2  0.000152   \n",
       "10      mul  matrices/4,4-identity_4,4,5,5-2s-r{main[1]out[...  0.830000   \n",
       "\n",
       "          time  \n",
       "0     0.018067  \n",
       "1     0.377566  \n",
       "2    81.277744  \n",
       "3     0.635898  \n",
       "4   462.162612  \n",
       "5     0.606631  \n",
       "6   384.749273  \n",
       "7     0.756580  \n",
       "8   332.450648  \n",
       "9     1.177773  \n",
       "10   60.786790  "
      ]
     },
     "execution_count": 9,
     "metadata": {},
     "output_type": "execute_result"
    }
   ],
   "source": [
    "data_5"
   ]
  },
  {
   "cell_type": "code",
   "execution_count": 10,
   "metadata": {},
   "outputs": [
    {
     "data": {
      "text/plain": [
       "2     1.325192\n",
       "4     3.800430\n",
       "6     1.786516\n",
       "8     1.788620\n",
       "10    0.791570\n",
       "Name: time, dtype: float64"
      ]
     },
     "execution_count": 10,
     "metadata": {},
     "output_type": "execute_result"
    }
   ],
   "source": [
    "multiply_times_3 = data_3[data_3['category'] == 'mul']['time']\n",
    "multiply_times_3"
   ]
  },
  {
   "cell_type": "code",
   "execution_count": 11,
   "metadata": {},
   "outputs": [
    {
     "data": {
      "text/plain": [
       "2      81.277744\n",
       "4     462.162612\n",
       "6     384.749273\n",
       "8     332.450648\n",
       "10     60.786790\n",
       "Name: time, dtype: float64"
      ]
     },
     "execution_count": 11,
     "metadata": {},
     "output_type": "execute_result"
    }
   ],
   "source": [
    "multiply_times_5 = data_5[data_5['category'] == 'mul']['time']\n",
    "multiply_times_5"
   ]
  },
  {
   "cell_type": "code",
   "execution_count": 12,
   "metadata": {},
   "outputs": [
    {
     "data": {
      "text/plain": [
       "2      61.332809\n",
       "4     121.607989\n",
       "6     215.362886\n",
       "8     185.869866\n",
       "10     76.792737\n",
       "Name: time, dtype: float64"
      ]
     },
     "execution_count": 12,
     "metadata": {},
     "output_type": "execute_result"
    }
   ],
   "source": [
    "multiply_times_5 / multiply_times_3"
   ]
  },
  {
   "cell_type": "code",
   "execution_count": 13,
   "metadata": {},
   "outputs": [
    {
     "data": {
      "text/plain": [
       "7.716049382716049"
      ]
     },
     "execution_count": 13,
     "metadata": {},
     "output_type": "execute_result"
    }
   ],
   "source": [
    "# The sizes\n",
    "out_size = 16 ** 2\n",
    "in_size_3 = (4 * 4 * 3 * 3) ** 2\n",
    "in_size_5 = (4 * 4 * 5 * 5) ** 2\n",
    "(in_size_5 / in_size_3)"
   ]
  },
  {
   "cell_type": "code",
   "execution_count": 14,
   "metadata": {},
   "outputs": [
    {
     "data": {
      "text/plain": [
       "139.2100126940718"
      ]
     },
     "execution_count": 14,
     "metadata": {},
     "output_type": "execute_result"
    }
   ],
   "source": [
    "mul_ratio = multiply_times_5.sum() / multiply_times_3.sum()\n",
    "mul_ratio"
   ]
  },
  {
   "cell_type": "code",
   "execution_count": 15,
   "metadata": {},
   "outputs": [
    {
     "data": {
      "text/plain": [
       "2.4156891539607557"
      ]
     },
     "execution_count": 15,
     "metadata": {},
     "output_type": "execute_result"
    }
   ],
   "source": [
    "np.log(mul_ratio) / np.log(in_size_5 / in_size_3)"
   ]
  },
  {
   "cell_type": "markdown",
   "metadata": {},
   "source": [
    "Ok so that's $O(n^{2.4})$ empirically from two data points.\n",
    "I can put better together from Trove"
   ]
  },
  {
   "cell_type": "code",
   "execution_count": 16,
   "metadata": {},
   "outputs": [
    {
     "data": {
      "text/plain": [
       "4.831378307921512"
      ]
     },
     "execution_count": 16,
     "metadata": {},
     "output_type": "execute_result"
    }
   ],
   "source": [
    "mul_big_o = np.log(mul_ratio) / np.log((16 * 25) / (16 * 9)) # Array elements\n",
    "mul_big_o"
   ]
  },
  {
   "cell_type": "code",
   "execution_count": 17,
   "metadata": {},
   "outputs": [
    {
     "data": {
      "text/plain": [
       "2.7777777777777777"
      ]
     },
     "execution_count": 17,
     "metadata": {},
     "output_type": "execute_result"
    }
   ],
   "source": [
    "25 / 9"
   ]
  },
  {
   "cell_type": "code",
   "execution_count": 18,
   "metadata": {},
   "outputs": [
    {
     "data": {
      "text/plain": [
       "28.47015234520906"
      ]
     },
     "execution_count": 18,
     "metadata": {},
     "output_type": "execute_result"
    }
   ],
   "source": [
    "2 ** mul_big_o"
   ]
  },
  {
   "cell_type": "markdown",
   "metadata": {},
   "source": [
    "The result, which we can try and confirm more carefully: if we double an input dimension, the multiplication sohuld get somewhere around 30x slower"
   ]
  },
  {
   "cell_type": "code",
   "execution_count": null,
   "metadata": {},
   "outputs": [],
   "source": []
  }
 ],
 "metadata": {
  "kernelspec": {
   "display_name": "Python 3",
   "language": "python",
   "name": "python3"
  },
  "language_info": {
   "codemirror_mode": {
    "name": "ipython",
    "version": 3
   },
   "file_extension": ".py",
   "mimetype": "text/x-python",
   "name": "python",
   "nbconvert_exporter": "python",
   "pygments_lexer": "ipython3",
   "version": "3.7.5"
  }
 },
 "nbformat": 4,
 "nbformat_minor": 4
}

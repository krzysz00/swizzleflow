{
 "cells": [
  {
   "cell_type": "markdown",
   "metadata": {},
   "source": [
    "# Analysis notebook for the quals report\n",
    "\n",
    "The main point of this document is to put together all the pretty graphs and tables that prove our hypotheses and to document how we got them.\n",
    "\n",
    "## Obtaining main timing results and statistics\n",
    "The data we're working was generated from swizzleflow commit `49c8255170`.\n",
    "\n",
    "We have the following files\n",
    "\n",
    "1. `results/2020-04-26-timings-for-initial-quals-eval`\n",
    "   - `env RUSTFLAGS=\"-g\" cargo build --features stats --release `\n",
    "   - ```bash\n",
    "for i in specs/swinv_like/*/*.json                              (master*)\n",
    "do\n",
    "./target/release/swizzleflow -a $i | tee -a results/2020-04-26-timings-for-inital-quals-eval\n",
    "done\n",
    "```\n",
    "\n",
    "2. `results/2020-04-27-2d-stencil-5-timings`\n",
    "   - ```bash\n",
    "for i in specs/swinv_like_big/*/*.json                           (master)\n",
    "do                       \n",
    "./target/release/swizzleflow -a $i | tee results/2020-04-27-2d-stencil-5-timings\n",
    "done\n",
    "```\n",
    "   - Get yourself some coffee while that's going\n",
    "\n",
    "3. `results/2020-04-27-stats-for-swinv-specs-for-quals`\n",
    "   - Recompile with `env RUSTFLAGS=\"-g\" cargo build --features stats --release`\n",
    "   - Run the same `for` loop in point 1, but outputing to a different file. These experiments will be slower due to statistic collection, but will give more info on what's going on\n",
    "\n",
    "4. For `results/2020-04-27-swizzleflow-comparisons.txt`, see that file for vague mumblings about the changes we had to make to their code to get all the data we caned about, or, like, call me if I haven't documented it better by then"
   ]
  },
  {
   "cell_type": "markdown",
   "metadata": {},
   "source": [
    "## Obtaining results for the one point experiments\n",
    "1. `git checkout one_point_test`, which has code modified to track only one point\n",
    "2. `env RUSTFLAGS=\"-g\" cargo build --features stats --release` to comple\n",
    "3. We used small specs to make sure we wouldn't have issues with search performance.\n",
    "4. And so run `./target/release/swizzleflow -m mats_one -a ./specs/1d-conv-16x3.json ./specs/trove-8x3.json | tee results/2020-04-27-small-specs-one-point-tracked-stats ` on the branch\n",
    "5. `git checkout master`, recompile\n",
    "6. `./target/release/swizzleflow -a ./specs/1d-conv-16x3.json ./specs/trove-8x3.json | tee results/2020-04-27-small-specs-two-points-tracked-stats ` to get the results"
   ]
  },
  {
   "cell_type": "code",
   "execution_count": 1,
   "metadata": {},
   "outputs": [],
   "source": [
    "# initial setup\n",
    "import sys\n",
    "sys.path.append(\"../analysis\")"
   ]
  },
  {
   "cell_type": "code",
   "execution_count": 2,
   "metadata": {},
   "outputs": [],
   "source": [
    "import parsing\n",
    "import extraction\n",
    "\n",
    "from parsing import parse_file\n",
    "from extraction import humanize_names, expand_target_checks, pull_spec_in"
   ]
  },
  {
   "cell_type": "code",
   "execution_count": 3,
   "metadata": {},
   "outputs": [],
   "source": [
    "import pandas as pd\n",
    "import numpy as np"
   ]
  },
  {
   "cell_type": "code",
   "execution_count": 4,
   "metadata": {},
   "outputs": [],
   "source": [
    "def fetch(dataset):\n",
    "    return humanize_names(parse_file(f\"../results/{dataset}\"))"
   ]
  },
  {
   "cell_type": "code",
   "execution_count": null,
   "metadata": {},
   "outputs": [],
   "source": []
  }
 ],
 "metadata": {
  "kernelspec": {
   "display_name": "Python 3",
   "language": "python",
   "name": "python3"
  },
  "language_info": {
   "codemirror_mode": {
    "name": "ipython",
    "version": 3
   },
   "file_extension": ".py",
   "mimetype": "text/x-python",
   "name": "python",
   "nbconvert_exporter": "python",
   "pygments_lexer": "ipython3",
   "version": "3.7.5"
  }
 },
 "nbformat": 4,
 "nbformat_minor": 4
}

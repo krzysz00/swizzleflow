{
 "cells": [
  {
   "cell_type": "markdown",
   "metadata": {},
   "source": [
    "# Analysis notebook for the quals report\n",
    "\n",
    "The main point of this document is to put together all the pretty graphs and tables that prove our hypotheses and to document how we got them.\n",
    "\n",
    "## Obtaining main timing results and statistics\n",
    "The data we're working was generated from swizzleflow commit `49c8255170`.\n",
    "\n",
    "We have the following files\n",
    "\n",
    "1. `results/2020-04-26-timings-for-initial-quals-eval`\n",
    "   - `env RUSTFLAGS=\"-g\" cargo build --features stats --release `\n",
    "   - ```bash\n",
    "for i in specs/swinv_like/*/*.json                              (master*)\n",
    "do\n",
    "./target/release/swizzleflow -a $i | tee -a results/2020-04-26-timings-for-inital-quals-eval\n",
    "done\n",
    "```\n",
    "\n",
    "2. `results/2020-04-27-2d-stencil-5-timings`\n",
    "   - ```bash\n",
    "for i in specs/swinv_like_big/*/*.json                           (master)\n",
    "do                       \n",
    "./target/release/swizzleflow -a $i | tee results/2020-04-27-2d-stencil-5-timings\n",
    "done\n",
    "```\n",
    "   - Get yourself some coffee while that's going\n",
    "\n",
    "3. `results/2020-04-27-stats-for-swinv-specs-for-quals`\n",
    "   - Recompile with `env RUSTFLAGS=\"-g\" cargo build --features stats --release`\n",
    "   - Run the same `for` loop in point 1, but outputing to a different file. These experiments will be slower due to statistic collection, but will give more info on what's going on\n",
    "\n",
    "4. For `results/2020-04-27-swizzleflow-comparisons.txt`, see that file for vague mumblings about the changes we had to make to their code to get all the data we caned about, or, like, call me if I haven't documented it better by then"
   ]
  },
  {
   "cell_type": "markdown",
   "metadata": {},
   "source": [
    "## Obtaining results for the one point experiments\n",
    "1. `git checkout one_point_test`, which has code modified to track only one point\n",
    "2. `env RUSTFLAGS=\"-g\" cargo build --features stats --release` to comple\n",
    "3. We used small specs to make sure we wouldn't have issues with search performance.\n",
    "4. And so run `./target/release/swizzleflow -m mats_one -a ./specs/1d-conv-16x3.json ./specs/trove-16x3.json | tee results/2020-04-28-small-specs-one-point-tracked-stats ` on the branch\n",
    "5. `git checkout master`, recompile\n",
    "6. `./target/release/swizzleflow -a ./specs/1d-conv-16x3.json ./specs/trove-16x3.json | tee results/2020-04-28-small-specs-two-points-tracked-stats` to get the results"
   ]
  },
  {
   "cell_type": "code",
   "execution_count": 1,
   "metadata": {},
   "outputs": [],
   "source": [
    "# initial setup\n",
    "import sys\n",
    "sys.path.append(\"../analysis\")"
   ]
  },
  {
   "cell_type": "code",
   "execution_count": 2,
   "metadata": {},
   "outputs": [],
   "source": [
    "import parsing\n",
    "import extraction\n",
    "\n",
    "from parsing import parse_file\n",
    "from extraction import humanize_names, expand_target_checks, pull_spec_in"
   ]
  },
  {
   "cell_type": "code",
   "execution_count": 3,
   "metadata": {},
   "outputs": [],
   "source": [
    "%matplotlib widget"
   ]
  },
  {
   "cell_type": "code",
   "execution_count": 4,
   "metadata": {},
   "outputs": [],
   "source": [
    "import pandas as pd\n",
    "import numpy as np\n",
    "\n",
    "import itertools\n",
    "\n",
    "import matplotlib as plt"
   ]
  },
  {
   "cell_type": "code",
   "execution_count": 5,
   "metadata": {},
   "outputs": [],
   "source": [
    "def fetch(dataset):\n",
    "    return humanize_names(parse_file(f\"../results/{dataset}\"))"
   ]
  },
  {
   "cell_type": "code",
   "execution_count": 6,
   "metadata": {},
   "outputs": [],
   "source": [
    "## Pruning utility experiments\n",
    "one_point_raw = fetch(\"2020-04-28-small-specs-one-point-tracked-stats\")\n",
    "two_points_raw = fetch(\"2020-04-28-small-specs-two-points-tracked-stats\")"
   ]
  },
  {
   "cell_type": "code",
   "execution_count": 7,
   "metadata": {},
   "outputs": [],
   "source": [
    "def map_frames(frames, f):\n",
    "    return {k: f(v) for k, v in frames.items()}\n"
   ]
  },
  {
   "cell_type": "code",
   "execution_count": 8,
   "metadata": {},
   "outputs": [],
   "source": [
    "cols_to_keep = ['tested', 'found', 'failed', 'pruned', 'continued']\n",
    "one_point = extraction.search_stats(one_point_raw)\n",
    "two_points = extraction.search_stats(two_points_raw)\n",
    "one_point = map_frames(one_point,\n",
    "                       lambda v: v[cols_to_keep])\n",
    "two_points = map_frames(two_points,\n",
    "                        lambda v: v[cols_to_keep])"
   ]
  },
  {
   "cell_type": "code",
   "execution_count": 9,
   "metadata": {},
   "outputs": [],
   "source": [
    "extraction.compute_basis_size(one_point)\n",
    "extraction.compute_basis_size(two_points)"
   ]
  },
  {
   "cell_type": "code",
   "execution_count": 10,
   "metadata": {},
   "outputs": [],
   "source": [
    "n_solutions = map_frames(two_points, lambda v: v['found'].sum())"
   ]
  },
  {
   "cell_type": "code",
   "execution_count": 11,
   "metadata": {},
   "outputs": [],
   "source": [
    "for test, df in itertools.chain(one_point.items(), two_points.items()):\n",
    "    df['redundant'] = (df['tested'] // df['basis_size']) - n_solutions[test]\n",
    "    df['rel_redundant'] = df['redundant'] / (df['tested'] // df['basis_size'])"
   ]
  },
  {
   "cell_type": "code",
   "execution_count": 12,
   "metadata": {},
   "outputs": [
    {
     "data": {
      "text/plain": [
       "({'1d-conv-16x3':    tested  found  failed  pruned  continued  basis_size  redundant  \\\n",
       "  0       1      0       0       0          1           1          0   \n",
       "  1      14      0       0      10          4          14          0   \n",
       "  2     960      0       0       0        960         240          3   \n",
       "  3   15360      0   15120       0        240          16        959   \n",
       "  4     240      1     239       0          0           1        239   \n",
       "  \n",
       "     rel_redundant  \n",
       "  0       0.000000  \n",
       "  1       0.000000  \n",
       "  2       0.750000  \n",
       "  3       0.998958  \n",
       "  4       0.995833  ,\n",
       "  'trove-8x3':    tested  found  failed  pruned  continued  basis_size  redundant  \\\n",
       "  0       1      0       0       0          1           1         -1   \n",
       "  1      18      0       0       0         18          18         -1   \n",
       "  2      54      0       0       0         54           3         16   \n",
       "  3    3024      0       0       0       3024          56         52   \n",
       "  4   24192      0       0   24190          2           8       3022   \n",
       "  5      36      0       0       0         36          18          0   \n",
       "  6     108      0       0       0        108           3         34   \n",
       "  7     108      2     106       0          0           1        106   \n",
       "  \n",
       "     rel_redundant  \n",
       "  0      -1.000000  \n",
       "  1      -1.000000  \n",
       "  2       0.888889  \n",
       "  3       0.962963  \n",
       "  4       0.999339  \n",
       "  5       0.000000  \n",
       "  6       0.944444  \n",
       "  7       0.981481  },\n",
       " {'1d-conv-16x3':    tested  found  failed  pruned  continued  basis_size  redundant  \\\n",
       "  0       1      0       0       0          1           1          0   \n",
       "  1      14      0       0      13          1          14          0   \n",
       "  2     240      0       0     239          1         240          0   \n",
       "  3      16      0       0       0         16          16          0   \n",
       "  4      16      1      15       0          0           1         15   \n",
       "  \n",
       "     rel_redundant  \n",
       "  0         0.0000  \n",
       "  1         0.0000  \n",
       "  2         0.0000  \n",
       "  3         0.0000  \n",
       "  4         0.9375  ,\n",
       "  'trove-8x3':    tested  found  failed  pruned  continued  basis_size  redundant  \\\n",
       "  0       1      0       0       0          1           1         -1   \n",
       "  1      18      0       0      16          2          18         -1   \n",
       "  2       6      0       0       4          2           3          0   \n",
       "  3     112      0       0     110          2          56          0   \n",
       "  4      16      0       0      14          2           8          0   \n",
       "  5      36      0       0      34          2          18          0   \n",
       "  6       6      0       0       0          6           3          0   \n",
       "  7       6      2       4       0          0           1          4   \n",
       "  \n",
       "     rel_redundant  \n",
       "  0      -1.000000  \n",
       "  1      -1.000000  \n",
       "  2       0.000000  \n",
       "  3       0.000000  \n",
       "  4       0.000000  \n",
       "  5       0.000000  \n",
       "  6       0.000000  \n",
       "  7       0.666667  })"
      ]
     },
     "execution_count": 12,
     "metadata": {},
     "output_type": "execute_result"
    }
   ],
   "source": [
    "(one_point, two_points)"
   ]
  },
  {
   "cell_type": "code",
   "execution_count": 13,
   "metadata": {},
   "outputs": [
    {
     "data": {
      "text/plain": [
       "{'1d-conv-16x3':    one point  two points\n",
       " 2          3           0\n",
       " 3        959           0, 'trove-8x3':    one point  two points\n",
       " 2         16           0\n",
       " 3         52           0\n",
       " 4       3022           0\n",
       " 5          0           0\n",
       " 6         34           0}"
      ]
     },
     "execution_count": 13,
     "metadata": {},
     "output_type": "execute_result"
    }
   ],
   "source": [
    "redundancies = {}\n",
    "rel_redundancies = {}\n",
    "for k in n_solutions:\n",
    "    redundancies[k] = pd.DataFrame({'one point': one_point[k]['redundant'][2:-1],\n",
    "                                     'two points': two_points[k]['redundant'][2:-1]})\n",
    "\n",
    "    rel_redundancies[k] = pd.DataFrame({'one point': one_point[k]['rel_redundant'][2:-1],\n",
    "                                        'two points': two_points[k]['rel_redundant'][2:-1]})\n",
    "redundancies"
   ]
  },
  {
   "cell_type": "code",
   "execution_count": 27,
   "metadata": {},
   "outputs": [
    {
     "data": {
      "application/vnd.jupyter.widget-view+json": {
       "model_id": "87b1dbb3a2e94a6da9478905e4917192",
       "version_major": 2,
       "version_minor": 0
      },
      "text/plain": [
       "Canvas(toolbar=Toolbar(toolitems=[('Home', 'Reset original view', 'home', 'home'), ('Back', 'Back to previous …"
      ]
     },
     "metadata": {},
     "output_type": "display_data"
    },
    {
     "data": {
      "application/vnd.jupyter.widget-view+json": {
       "model_id": "d4e3c5f353894ce9833def36bcb433f1",
       "version_major": 2,
       "version_minor": 0
      },
      "text/plain": [
       "Canvas(toolbar=Toolbar(toolitems=[('Home', 'Reset original view', 'home', 'home'), ('Back', 'Back to previous …"
      ]
     },
     "metadata": {},
     "output_type": "display_data"
    },
    {
     "data": {
      "text/plain": [
       "spec\n",
       "1d-conv-16x3    AxesSubplot(0.125,0.11;0.775x0.77)\n",
       "trove-8x3       AxesSubplot(0.125,0.11;0.775x0.77)\n",
       "dtype: object"
      ]
     },
     "execution_count": 27,
     "metadata": {},
     "output_type": "execute_result"
    }
   ],
   "source": [
    "pull_spec_in(redundancies).groupby('spec').plot()"
   ]
  },
  {
   "cell_type": "code",
   "execution_count": null,
   "metadata": {},
   "outputs": [],
   "source": []
  }
 ],
 "metadata": {
  "kernelspec": {
   "display_name": "Python 3",
   "language": "python",
   "name": "python3"
  },
  "language_info": {
   "codemirror_mode": {
    "name": "ipython",
    "version": 3
   },
   "file_extension": ".py",
   "mimetype": "text/x-python",
   "name": "python",
   "nbconvert_exporter": "python",
   "pygments_lexer": "ipython3",
   "version": "3.7.5"
  }
 },
 "nbformat": 4,
 "nbformat_minor": 4
}

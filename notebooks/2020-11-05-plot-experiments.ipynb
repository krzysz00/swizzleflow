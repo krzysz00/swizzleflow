{
 "cells": [
  {
   "cell_type": "code",
   "execution_count": 1,
   "metadata": {},
   "outputs": [],
   "source": [
    "import sys\n",
    "sys.path.append(\"../analysis/\")"
   ]
  },
  {
   "cell_type": "code",
   "execution_count": 2,
   "metadata": {},
   "outputs": [],
   "source": [
    "import utils\n",
    "import extraction\n",
    "import parsing"
   ]
  },
  {
   "cell_type": "code",
   "execution_count": 3,
   "metadata": {},
   "outputs": [],
   "source": [
    "import pandas as pd\n",
    "import matplotlib.pyplot as plt\n",
    "import numpy as np"
   ]
  },
  {
   "cell_type": "code",
   "execution_count": 4,
   "metadata": {},
   "outputs": [],
   "source": [
    "%matplotlib inline"
   ]
  },
  {
   "cell_type": "code",
   "execution_count": 5,
   "metadata": {},
   "outputs": [],
   "source": [
    "raw_data = parsing.parse_file(\"../results/2020-11-05-quals-talk-more-experiments\")"
   ]
  },
  {
   "cell_type": "code",
   "execution_count": 6,
   "metadata": {},
   "outputs": [],
   "source": [
    "raw_data_loads_only = parsing.parse_file(\"../results/2020-11-05-quals-talk-more-experiments-loads-only\")"
   ]
  },
  {
   "cell_type": "code",
   "execution_count": 7,
   "metadata": {},
   "outputs": [],
   "source": [
    "raw_swinv = parsing.parse_swizzle_inventor_file(\"../results/2020-06-05-swizzle-inventor-reused-results-new-specs\")"
   ]
  },
  {
   "cell_type": "code",
   "execution_count": 8,
   "metadata": {},
   "outputs": [],
   "source": [
    "## Hack so we get a good comparison\n",
    "## Move l2 2D stencils to l3 (they have slower search, even) so matrix time is accounted for\n",
    "import copy\n",
    "real_raw_data = copy.deepcopy(raw_data)\n",
    "\n",
    "for i in [3, 5, 7, 9]:\n",
    "    raw_data[f\"specs/swinv_like{'_big' if i >= 7 else ''}/l3/2d-stencil-{i}.swflow\"] =\\\n",
    "        raw_data[f\"specs/swinv_like{'_big' if i >= 7 else ''}/l2/2d-stencil-{i}.swflow\"]"
   ]
  },
  {
   "cell_type": "code",
   "execution_count": 9,
   "metadata": {},
   "outputs": [],
   "source": [
    "import plots"
   ]
  },
  {
   "cell_type": "code",
   "execution_count": 10,
   "metadata": {},
   "outputs": [],
   "source": [
    "details_df, comparison_df = plots.process_data(raw_data, raw_data_loads_only, raw_swinv)"
   ]
  },
  {
   "cell_type": "code",
   "execution_count": 11,
   "metadata": {},
   "outputs": [
    {
     "data": {
      "text/html": [
       "<div>\n",
       "<style scoped>\n",
       "    .dataframe tbody tr th:only-of-type {\n",
       "        vertical-align: middle;\n",
       "    }\n",
       "\n",
       "    .dataframe tbody tr th {\n",
       "        vertical-align: top;\n",
       "    }\n",
       "\n",
       "    .dataframe thead th {\n",
       "        text-align: right;\n",
       "    }\n",
       "</style>\n",
       "<table border=\"1\" class=\"dataframe\">\n",
       "  <thead>\n",
       "    <tr style=\"text-align: right;\">\n",
       "      <th></th>\n",
       "      <th>Swizzleflow</th>\n",
       "      <th>Swizzle Inventor</th>\n",
       "    </tr>\n",
       "    <tr>\n",
       "      <th>spec</th>\n",
       "      <th></th>\n",
       "      <th></th>\n",
       "    </tr>\n",
       "  </thead>\n",
       "  <tbody>\n",
       "    <tr>\n",
       "      <th>l1/1d-conv</th>\n",
       "      <td>0.249351</td>\n",
       "      <td>9.073</td>\n",
       "    </tr>\n",
       "    <tr>\n",
       "      <th>l1/1d-stencil</th>\n",
       "      <td>0.235267</td>\n",
       "      <td>6.753</td>\n",
       "    </tr>\n",
       "    <tr>\n",
       "      <th>l1/2d-stencil-3</th>\n",
       "      <td>0.022844</td>\n",
       "      <td>21.160</td>\n",
       "    </tr>\n",
       "    <tr>\n",
       "      <th>l1/2d-stencil-5</th>\n",
       "      <td>0.155621</td>\n",
       "      <td>65.945</td>\n",
       "    </tr>\n",
       "    <tr>\n",
       "      <th>l1/2d-stencil-7</th>\n",
       "      <td>2.205969</td>\n",
       "      <td>634.500</td>\n",
       "    </tr>\n",
       "  </tbody>\n",
       "</table>\n",
       "</div>"
      ],
      "text/plain": [
       "                 Swizzleflow  Swizzle Inventor\n",
       "spec                                          \n",
       "l1/1d-conv          0.249351             9.073\n",
       "l1/1d-stencil       0.235267             6.753\n",
       "l1/2d-stencil-3     0.022844            21.160\n",
       "l1/2d-stencil-5     0.155621            65.945\n",
       "l1/2d-stencil-7     2.205969           634.500"
      ]
     },
     "execution_count": 11,
     "metadata": {},
     "output_type": "execute_result"
    }
   ],
   "source": [
    "comparison_df.head()"
   ]
  },
  {
   "cell_type": "code",
   "execution_count": 12,
   "metadata": {},
   "outputs": [
    {
     "data": {
      "text/html": [
       "<div>\n",
       "<style scoped>\n",
       "    .dataframe tbody tr th:only-of-type {\n",
       "        vertical-align: middle;\n",
       "    }\n",
       "\n",
       "    .dataframe tbody tr th {\n",
       "        vertical-align: top;\n",
       "    }\n",
       "\n",
       "    .dataframe thead th {\n",
       "        text-align: right;\n",
       "    }\n",
       "</style>\n",
       "<table border=\"1\" class=\"dataframe\">\n",
       "  <thead>\n",
       "    <tr style=\"text-align: right;\">\n",
       "      <th></th>\n",
       "      <th>Mat. creation</th>\n",
       "      <th>Mat. reuse</th>\n",
       "      <th>Mat. multiply</th>\n",
       "      <th>Search</th>\n",
       "      <th>Reloading all</th>\n",
       "      <th>Total synthesis</th>\n",
       "    </tr>\n",
       "    <tr>\n",
       "      <th>spec</th>\n",
       "      <th></th>\n",
       "      <th></th>\n",
       "      <th></th>\n",
       "      <th></th>\n",
       "      <th></th>\n",
       "      <th></th>\n",
       "    </tr>\n",
       "  </thead>\n",
       "  <tbody>\n",
       "    <tr>\n",
       "      <th>l1/1d-conv</th>\n",
       "      <td>0.000567</td>\n",
       "      <td>0.067113</td>\n",
       "      <td>0.171387</td>\n",
       "      <td>0.010283</td>\n",
       "      <td>0.027305</td>\n",
       "      <td>0.249351</td>\n",
       "    </tr>\n",
       "    <tr>\n",
       "      <th>l1/1d-stencil</th>\n",
       "      <td>0.000586</td>\n",
       "      <td>0.063468</td>\n",
       "      <td>0.166343</td>\n",
       "      <td>0.004870</td>\n",
       "      <td>0.010500</td>\n",
       "      <td>0.235267</td>\n",
       "    </tr>\n",
       "    <tr>\n",
       "      <th>l1/2d-stencil-3</th>\n",
       "      <td>0.005372</td>\n",
       "      <td>0.010624</td>\n",
       "      <td>0.003623</td>\n",
       "      <td>0.003225</td>\n",
       "      <td>0.011242</td>\n",
       "      <td>0.022844</td>\n",
       "    </tr>\n",
       "    <tr>\n",
       "      <th>l1/2d-stencil-5</th>\n",
       "      <td>0.045434</td>\n",
       "      <td>0.061284</td>\n",
       "      <td>0.016975</td>\n",
       "      <td>0.031928</td>\n",
       "      <td>0.067986</td>\n",
       "      <td>0.155621</td>\n",
       "    </tr>\n",
       "    <tr>\n",
       "      <th>l1/2d-stencil-7</th>\n",
       "      <td>1.794588</td>\n",
       "      <td>0.279207</td>\n",
       "      <td>0.131002</td>\n",
       "      <td>0.001171</td>\n",
       "      <td>0.281963</td>\n",
       "      <td>2.205969</td>\n",
       "    </tr>\n",
       "  </tbody>\n",
       "</table>\n",
       "</div>"
      ],
      "text/plain": [
       "                 Mat. creation  Mat. reuse  Mat. multiply    Search  \\\n",
       "spec                                                                  \n",
       "l1/1d-conv            0.000567    0.067113       0.171387  0.010283   \n",
       "l1/1d-stencil         0.000586    0.063468       0.166343  0.004870   \n",
       "l1/2d-stencil-3       0.005372    0.010624       0.003623  0.003225   \n",
       "l1/2d-stencil-5       0.045434    0.061284       0.016975  0.031928   \n",
       "l1/2d-stencil-7       1.794588    0.279207       0.131002  0.001171   \n",
       "\n",
       "                 Reloading all  Total synthesis  \n",
       "spec                                             \n",
       "l1/1d-conv            0.027305         0.249351  \n",
       "l1/1d-stencil         0.010500         0.235267  \n",
       "l1/2d-stencil-3       0.011242         0.022844  \n",
       "l1/2d-stencil-5       0.067986         0.155621  \n",
       "l1/2d-stencil-7       0.281963         2.205969  "
      ]
     },
     "execution_count": 12,
     "metadata": {},
     "output_type": "execute_result"
    }
   ],
   "source": [
    "details_df.head()"
   ]
  },
  {
   "cell_type": "code",
   "execution_count": 13,
   "metadata": {},
   "outputs": [],
   "source": [
    "plottable_details = plots.to_plot_df(details_df)"
   ]
  },
  {
   "cell_type": "code",
   "execution_count": 14,
   "metadata": {},
   "outputs": [
    {
     "data": {
      "text/html": [
       "<div>\n",
       "<style scoped>\n",
       "    .dataframe tbody tr th:only-of-type {\n",
       "        vertical-align: middle;\n",
       "    }\n",
       "\n",
       "    .dataframe tbody tr th {\n",
       "        vertical-align: top;\n",
       "    }\n",
       "\n",
       "    .dataframe thead th {\n",
       "        text-align: right;\n",
       "    }\n",
       "</style>\n",
       "<table border=\"1\" class=\"dataframe\">\n",
       "  <thead>\n",
       "    <tr style=\"text-align: right;\">\n",
       "      <th></th>\n",
       "      <th>Problem</th>\n",
       "      <th>Level</th>\n",
       "      <th>Mat. creation</th>\n",
       "      <th>Mat. reuse</th>\n",
       "      <th>Mat. multiply</th>\n",
       "      <th>Search</th>\n",
       "      <th>Reloading all</th>\n",
       "      <th>Total synthesis</th>\n",
       "    </tr>\n",
       "  </thead>\n",
       "  <tbody>\n",
       "    <tr>\n",
       "      <th>0</th>\n",
       "      <td>1D convolution (k=3)</td>\n",
       "      <td>R</td>\n",
       "      <td>0.000567</td>\n",
       "      <td>0.067113</td>\n",
       "      <td>0.171387</td>\n",
       "      <td>0.010283</td>\n",
       "      <td>0.027305</td>\n",
       "      <td>0.249351</td>\n",
       "    </tr>\n",
       "    <tr>\n",
       "      <th>1</th>\n",
       "      <td>1D stencil (k=3)</td>\n",
       "      <td>R</td>\n",
       "      <td>0.000586</td>\n",
       "      <td>0.063468</td>\n",
       "      <td>0.166343</td>\n",
       "      <td>0.004870</td>\n",
       "      <td>0.010500</td>\n",
       "      <td>0.235267</td>\n",
       "    </tr>\n",
       "    <tr>\n",
       "      <th>2</th>\n",
       "      <td>2D stencil (k=3)</td>\n",
       "      <td>R</td>\n",
       "      <td>0.005372</td>\n",
       "      <td>0.010624</td>\n",
       "      <td>0.003623</td>\n",
       "      <td>0.003225</td>\n",
       "      <td>0.011242</td>\n",
       "      <td>0.022844</td>\n",
       "    </tr>\n",
       "    <tr>\n",
       "      <th>3</th>\n",
       "      <td>2D stencil (k=5)</td>\n",
       "      <td>R</td>\n",
       "      <td>0.045434</td>\n",
       "      <td>0.061284</td>\n",
       "      <td>0.016975</td>\n",
       "      <td>0.031928</td>\n",
       "      <td>0.067986</td>\n",
       "      <td>0.155621</td>\n",
       "    </tr>\n",
       "    <tr>\n",
       "      <th>4</th>\n",
       "      <td>2D stencil (k=7)</td>\n",
       "      <td>R</td>\n",
       "      <td>1.794588</td>\n",
       "      <td>0.279207</td>\n",
       "      <td>0.131002</td>\n",
       "      <td>0.001171</td>\n",
       "      <td>0.281963</td>\n",
       "      <td>2.205969</td>\n",
       "    </tr>\n",
       "  </tbody>\n",
       "</table>\n",
       "</div>"
      ],
      "text/plain": [
       "                Problem Level  Mat. creation  Mat. reuse  Mat. multiply  \\\n",
       "0  1D convolution (k=3)     R       0.000567    0.067113       0.171387   \n",
       "1      1D stencil (k=3)     R       0.000586    0.063468       0.166343   \n",
       "2      2D stencil (k=3)     R       0.005372    0.010624       0.003623   \n",
       "3      2D stencil (k=5)     R       0.045434    0.061284       0.016975   \n",
       "4      2D stencil (k=7)     R       1.794588    0.279207       0.131002   \n",
       "\n",
       "     Search  Reloading all  Total synthesis  \n",
       "0  0.010283       0.027305         0.249351  \n",
       "1  0.004870       0.010500         0.235267  \n",
       "2  0.003225       0.011242         0.022844  \n",
       "3  0.031928       0.067986         0.155621  \n",
       "4  0.001171       0.281963         2.205969  "
      ]
     },
     "execution_count": 14,
     "metadata": {},
     "output_type": "execute_result"
    }
   ],
   "source": [
    "plottable_details.head()"
   ]
  },
  {
   "cell_type": "code",
   "execution_count": 15,
   "metadata": {},
   "outputs": [],
   "source": [
    "time_components = details_df.sum(axis=0).rename({\"Mat. reuse\": \"Mat. reloading\"})"
   ]
  },
  {
   "cell_type": "code",
   "execution_count": 16,
   "metadata": {},
   "outputs": [
    {
     "data": {
      "text/plain": [
       "Mat. creation       617.963369\n",
       "Mat. reloading        6.333077\n",
       "Mat. multiply       391.801551\n",
       "Search               21.487751\n",
       "Reloading all        44.941317\n",
       "Total synthesis    1037.585748\n",
       "dtype: float64"
      ]
     },
     "execution_count": 16,
     "metadata": {},
     "output_type": "execute_result"
    }
   ],
   "source": [
    "time_components"
   ]
  },
  {
   "cell_type": "code",
   "execution_count": 17,
   "metadata": {},
   "outputs": [
    {
     "data": {
      "text/plain": [
       "True"
      ]
     },
     "execution_count": 17,
     "metadata": {},
     "output_type": "execute_result"
    }
   ],
   "source": [
    "# Sanity checks\n",
    "time_parts = time_components.drop(['Total synthesis', 'Reloading all'], inplace=False)\n",
    "time_parts.sum() == time_components['Total synthesis']"
   ]
  },
  {
   "cell_type": "code",
   "execution_count": 18,
   "metadata": {},
   "outputs": [
    {
     "data": {
      "text/plain": [
       "<matplotlib.axes._subplots.AxesSubplot at 0x7f4aded947f0>"
      ]
     },
     "execution_count": 18,
     "metadata": {},
     "output_type": "execute_result"
    },
    {
     "data": {
      "image/png": "[encoded data removed]",
      "text/plain": [
       "<Figure size 432x288 with 1 Axes>"
      ]
     },
     "metadata": {},
     "output_type": "display_data"
    }
   ],
   "source": [
    "fig = plt.figure()\n",
    "ax = fig.add_subplot(1, 1, 1)\n",
    "time_parts.plot(kind='pie', ax=ax)\n",
    "ax.set_ylabel(\"\")\n",
    "ax.set_title(\"Time used by Swizzleflow (all GPU benchmarks)\")\n",
    "ax.set_xlabel(f\"Total time: {time_components['Total synthesis']:.1f} seconds\")\n",
    "ax"
   ]
  },
  {
   "cell_type": "code",
   "execution_count": 19,
   "metadata": {},
   "outputs": [],
   "source": [
    "fig.savefig(\"../results/2020-11-05-time-split.pdf\")"
   ]
  },
  {
   "cell_type": "code",
   "execution_count": 20,
   "metadata": {},
   "outputs": [],
   "source": [
    "fig.savefig(\"../results/2020-11-05-time-split.svg\")"
   ]
  },
  {
   "cell_type": "code",
   "execution_count": 21,
   "metadata": {},
   "outputs": [],
   "source": [
    "plt.close(fig)"
   ]
  },
  {
   "cell_type": "code",
   "execution_count": 22,
   "metadata": {},
   "outputs": [
    {
     "data": {
      "image/png": "[encoded data removed]",
      "text/plain": [
       "<Figure size 432x288 with 4 Axes>"
      ]
     },
     "execution_count": 22,
     "metadata": {},
     "output_type": "execute_result"
    },
    {
     "data": {
      "image/png": "[encoded data removed]",
      "text/plain": [
       "<Figure size 432x288 with 4 Axes>"
      ]
     },
     "metadata": {},
     "output_type": "display_data"
    }
   ],
   "source": [
    "fig, axs = plt.subplots(2, 2)\n",
    "fig.suptitle(\"Time used by Swizzleflow parts in various benchmarks\")\n",
    "for idx, group in enumerate([('l3/trove-crc-7', \"Trove (CRC, s=7)\"),\n",
    "                            ('l3/trove-rcr-7', \"Trove (RCR, s=7)\"),\n",
    "                            ('l3/1d-conv-7', \"1D convolution (k=7)\"),\n",
    "                            ('l3/trove-rcr-3', \"Trove (RCR, s=3)\")]):\n",
    "    row, title = group\n",
    "    ax = axs[idx // 2][idx % 2]\n",
    "    series = details_df.loc[row].drop([\"Total synthesis\", \"Reloading all\"])\n",
    "    series = series.replace(0, 1.0e-9) # Hack, make the colors line up\n",
    "    series.plot(kind='pie', ax=ax, labels=([''] * len(series)))\n",
    "    ax.set_ylabel(\"\")\n",
    "    ax.set_title(title)\n",
    "    ax.set_xlabel(f\"Total time: {details_df['Total synthesis'][row]:.2f} seconds\")\n",
    "fig.tight_layout()\n",
    "fig.legend(labels=series.index, loc=\"lower center\", ncol=len(series.index))\n",
    "fig.subplots_adjust(top=0.85, bottom=0.15)\n",
    "fig.savefig(\"../results/2020-11-05-time-split.svg\")\n",
    "fig"
   ]
  },
  {
   "cell_type": "code",
   "execution_count": 23,
   "metadata": {},
   "outputs": [],
   "source": [
    "plt.close(fig)"
   ]
  },
  {
   "cell_type": "code",
   "execution_count": 24,
   "metadata": {},
   "outputs": [],
   "source": [
    "comparisons_annot = plots.to_plot_df(comparison_df)"
   ]
  },
  {
   "cell_type": "code",
   "execution_count": 25,
   "metadata": {},
   "outputs": [
    {
     "data": {
      "text/html": [
       "<div>\n",
       "<style scoped>\n",
       "    .dataframe tbody tr th:only-of-type {\n",
       "        vertical-align: middle;\n",
       "    }\n",
       "\n",
       "    .dataframe tbody tr th {\n",
       "        vertical-align: top;\n",
       "    }\n",
       "\n",
       "    .dataframe thead th {\n",
       "        text-align: right;\n",
       "    }\n",
       "</style>\n",
       "<table border=\"1\" class=\"dataframe\">\n",
       "  <thead>\n",
       "    <tr style=\"text-align: right;\">\n",
       "      <th></th>\n",
       "      <th>Problem</th>\n",
       "      <th>Level</th>\n",
       "      <th>Swizzleflow</th>\n",
       "      <th>Swizzle Inventor</th>\n",
       "    </tr>\n",
       "  </thead>\n",
       "  <tbody>\n",
       "    <tr>\n",
       "      <th>28</th>\n",
       "      <td>1D convolution (k=3)</td>\n",
       "      <td>F</td>\n",
       "      <td>1.271847</td>\n",
       "      <td>22.879</td>\n",
       "    </tr>\n",
       "    <tr>\n",
       "      <th>29</th>\n",
       "      <td>1D stencil (k=3)</td>\n",
       "      <td>F</td>\n",
       "      <td>1.221500</td>\n",
       "      <td>15.864</td>\n",
       "    </tr>\n",
       "    <tr>\n",
       "      <th>30</th>\n",
       "      <td>2D stencil (k=3)</td>\n",
       "      <td>F</td>\n",
       "      <td>0.055568</td>\n",
       "      <td>51.497</td>\n",
       "    </tr>\n",
       "    <tr>\n",
       "      <th>31</th>\n",
       "      <td>2D stencil (k=5)</td>\n",
       "      <td>F</td>\n",
       "      <td>0.386437</td>\n",
       "      <td>577.110</td>\n",
       "    </tr>\n",
       "    <tr>\n",
       "      <th>32</th>\n",
       "      <td>2D stencil (k=7)</td>\n",
       "      <td>F</td>\n",
       "      <td>63.682025</td>\n",
       "      <td>NaN</td>\n",
       "    </tr>\n",
       "    <tr>\n",
       "      <th>33</th>\n",
       "      <td>Trove (Sum, s=1)</td>\n",
       "      <td>F</td>\n",
       "      <td>0.000473</td>\n",
       "      <td>8.917</td>\n",
       "    </tr>\n",
       "    <tr>\n",
       "      <th>34</th>\n",
       "      <td>Trove (Sum, s=2)</td>\n",
       "      <td>F</td>\n",
       "      <td>0.115529</td>\n",
       "      <td>15.199</td>\n",
       "    </tr>\n",
       "    <tr>\n",
       "      <th>35</th>\n",
       "      <td>Trove (Sum, s=3)</td>\n",
       "      <td>F</td>\n",
       "      <td>0.283976</td>\n",
       "      <td>23.979</td>\n",
       "    </tr>\n",
       "    <tr>\n",
       "      <th>36</th>\n",
       "      <td>Trove (Sum, s=4)</td>\n",
       "      <td>F</td>\n",
       "      <td>0.983048</td>\n",
       "      <td>34.639</td>\n",
       "    </tr>\n",
       "    <tr>\n",
       "      <th>37</th>\n",
       "      <td>Trove (Sum, s=5)</td>\n",
       "      <td>F</td>\n",
       "      <td>0.882987</td>\n",
       "      <td>49.717</td>\n",
       "    </tr>\n",
       "    <tr>\n",
       "      <th>38</th>\n",
       "      <td>Trove (Sum, s=7)</td>\n",
       "      <td>F</td>\n",
       "      <td>1.879452</td>\n",
       "      <td>66.065</td>\n",
       "    </tr>\n",
       "    <tr>\n",
       "      <th>39</th>\n",
       "      <td>Trove (CRC, s=1)</td>\n",
       "      <td>F</td>\n",
       "      <td>0.000302</td>\n",
       "      <td>3.974</td>\n",
       "    </tr>\n",
       "    <tr>\n",
       "      <th>40</th>\n",
       "      <td>Trove (CRC, s=2)</td>\n",
       "      <td>F</td>\n",
       "      <td>0.223812</td>\n",
       "      <td>8.742</td>\n",
       "    </tr>\n",
       "    <tr>\n",
       "      <th>41</th>\n",
       "      <td>Trove (CRC, s=3)</td>\n",
       "      <td>F</td>\n",
       "      <td>0.913641</td>\n",
       "      <td>17.039</td>\n",
       "    </tr>\n",
       "    <tr>\n",
       "      <th>42</th>\n",
       "      <td>Trove (CRC, s=4)</td>\n",
       "      <td>F</td>\n",
       "      <td>8.063021</td>\n",
       "      <td>20.663</td>\n",
       "    </tr>\n",
       "    <tr>\n",
       "      <th>43</th>\n",
       "      <td>Trove (CRC, s=5)</td>\n",
       "      <td>F</td>\n",
       "      <td>7.402925</td>\n",
       "      <td>120.180</td>\n",
       "    </tr>\n",
       "    <tr>\n",
       "      <th>44</th>\n",
       "      <td>Trove (CRC, s=7)</td>\n",
       "      <td>F</td>\n",
       "      <td>37.443406</td>\n",
       "      <td>143.733</td>\n",
       "    </tr>\n",
       "    <tr>\n",
       "      <th>45</th>\n",
       "      <td>Trove (RCR, s=1)</td>\n",
       "      <td>F</td>\n",
       "      <td>0.012050</td>\n",
       "      <td>9.618</td>\n",
       "    </tr>\n",
       "    <tr>\n",
       "      <th>46</th>\n",
       "      <td>Trove (RCR, s=2)</td>\n",
       "      <td>F</td>\n",
       "      <td>2.297327</td>\n",
       "      <td>1540.175</td>\n",
       "    </tr>\n",
       "    <tr>\n",
       "      <th>47</th>\n",
       "      <td>Trove (RCR, s=3)</td>\n",
       "      <td>F</td>\n",
       "      <td>1.059690</td>\n",
       "      <td>NaN</td>\n",
       "    </tr>\n",
       "    <tr>\n",
       "      <th>48</th>\n",
       "      <td>Trove (RCR, s=4)</td>\n",
       "      <td>F</td>\n",
       "      <td>7.884500</td>\n",
       "      <td>NaN</td>\n",
       "    </tr>\n",
       "    <tr>\n",
       "      <th>49</th>\n",
       "      <td>Trove (RCR, s=5)</td>\n",
       "      <td>F</td>\n",
       "      <td>10.911200</td>\n",
       "      <td>NaN</td>\n",
       "    </tr>\n",
       "    <tr>\n",
       "      <th>50</th>\n",
       "      <td>Trove (RCR, s=7)</td>\n",
       "      <td>F</td>\n",
       "      <td>30.479107</td>\n",
       "      <td>NaN</td>\n",
       "    </tr>\n",
       "  </tbody>\n",
       "</table>\n",
       "</div>"
      ],
      "text/plain": [
       "                 Problem Level  Swizzleflow  Swizzle Inventor\n",
       "28  1D convolution (k=3)     F     1.271847            22.879\n",
       "29      1D stencil (k=3)     F     1.221500            15.864\n",
       "30      2D stencil (k=3)     F     0.055568            51.497\n",
       "31      2D stencil (k=5)     F     0.386437           577.110\n",
       "32      2D stencil (k=7)     F    63.682025               NaN\n",
       "33      Trove (Sum, s=1)     F     0.000473             8.917\n",
       "34      Trove (Sum, s=2)     F     0.115529            15.199\n",
       "35      Trove (Sum, s=3)     F     0.283976            23.979\n",
       "36      Trove (Sum, s=4)     F     0.983048            34.639\n",
       "37      Trove (Sum, s=5)     F     0.882987            49.717\n",
       "38      Trove (Sum, s=7)     F     1.879452            66.065\n",
       "39      Trove (CRC, s=1)     F     0.000302             3.974\n",
       "40      Trove (CRC, s=2)     F     0.223812             8.742\n",
       "41      Trove (CRC, s=3)     F     0.913641            17.039\n",
       "42      Trove (CRC, s=4)     F     8.063021            20.663\n",
       "43      Trove (CRC, s=5)     F     7.402925           120.180\n",
       "44      Trove (CRC, s=7)     F    37.443406           143.733\n",
       "45      Trove (RCR, s=1)     F     0.012050             9.618\n",
       "46      Trove (RCR, s=2)     F     2.297327          1540.175\n",
       "47      Trove (RCR, s=3)     F     1.059690               NaN\n",
       "48      Trove (RCR, s=4)     F     7.884500               NaN\n",
       "49      Trove (RCR, s=5)     F    10.911200               NaN\n",
       "50      Trove (RCR, s=7)     F    30.479107               NaN"
      ]
     },
     "execution_count": 25,
     "metadata": {},
     "output_type": "execute_result"
    }
   ],
   "source": [
    "full_data = comparisons_annot[comparisons_annot['Level'] == 'F']\n",
    "full_data"
   ]
  },
  {
   "cell_type": "code",
   "execution_count": 26,
   "metadata": {},
   "outputs": [
    {
     "data": {
      "text/plain": [
       "28       17.988802\n",
       "29       12.987307\n",
       "30      926.736776\n",
       "31     1493.411688\n",
       "32             NaN\n",
       "33    18835.721332\n",
       "34      131.559757\n",
       "35       84.440194\n",
       "36       35.236342\n",
       "37       56.305477\n",
       "38       35.151208\n",
       "39    13151.711311\n",
       "40       39.059635\n",
       "41       18.649554\n",
       "42        2.562687\n",
       "43       16.234125\n",
       "44        3.838673\n",
       "45      798.169306\n",
       "46      670.420481\n",
       "47             NaN\n",
       "48             NaN\n",
       "49             NaN\n",
       "50             NaN\n",
       "dtype: float64"
      ]
     },
     "execution_count": 26,
     "metadata": {},
     "output_type": "execute_result"
    }
   ],
   "source": [
    "full_data['Swizzle Inventor'] / full_data['Swizzleflow']"
   ]
  },
  {
   "cell_type": "code",
   "execution_count": 27,
   "metadata": {},
   "outputs": [],
   "source": [
    "import timing"
   ]
  },
  {
   "cell_type": "code",
   "execution_count": 28,
   "metadata": {},
   "outputs": [
    {
     "data": {
      "text/plain": [
       "<module 'utils' from '../analysis/utils.py'>"
      ]
     },
     "execution_count": 28,
     "metadata": {},
     "output_type": "execute_result"
    }
   ],
   "source": [
    "import importlib\n",
    "importlib.reload(utils)"
   ]
  },
  {
   "cell_type": "code",
   "execution_count": 29,
   "metadata": {},
   "outputs": [],
   "source": [
    "gpu_data = timing.process(extraction.humanize_names(raw_data))[['total']]\\\n",
    "   .rename({'total': 'Time'}, axis=1)"
   ]
  },
  {
   "cell_type": "code",
   "execution_count": 30,
   "metadata": {},
   "outputs": [],
   "source": [
    "our_data = plots.to_plot_df(gpu_data)"
   ]
  },
  {
   "cell_type": "code",
   "execution_count": 31,
   "metadata": {},
   "outputs": [
    {
     "data": {
      "text/html": [
       "<div>\n",
       "<style scoped>\n",
       "    .dataframe tbody tr th:only-of-type {\n",
       "        vertical-align: middle;\n",
       "    }\n",
       "\n",
       "    .dataframe tbody tr th {\n",
       "        vertical-align: top;\n",
       "    }\n",
       "\n",
       "    .dataframe thead th {\n",
       "        text-align: right;\n",
       "    }\n",
       "</style>\n",
       "<table border=\"1\" class=\"dataframe\">\n",
       "  <thead>\n",
       "    <tr style=\"text-align: right;\">\n",
       "      <th></th>\n",
       "      <th>Problem</th>\n",
       "      <th>Level</th>\n",
       "      <th>Time</th>\n",
       "    </tr>\n",
       "  </thead>\n",
       "  <tbody>\n",
       "    <tr>\n",
       "      <th>0</th>\n",
       "      <td>2D stencil (k=7)</td>\n",
       "      <td>FC</td>\n",
       "      <td>63.682025</td>\n",
       "    </tr>\n",
       "    <tr>\n",
       "      <th>1</th>\n",
       "      <td>2D stencil (k=9)</td>\n",
       "      <td>FC</td>\n",
       "      <td>158.253359</td>\n",
       "    </tr>\n",
       "    <tr>\n",
       "      <th>2</th>\n",
       "      <td>Trove (CRC, s=7)</td>\n",
       "      <td>F</td>\n",
       "      <td>37.443406</td>\n",
       "    </tr>\n",
       "    <tr>\n",
       "      <th>3</th>\n",
       "      <td>Trove (CRC, s=9)</td>\n",
       "      <td>F</td>\n",
       "      <td>123.519346</td>\n",
       "    </tr>\n",
       "    <tr>\n",
       "      <th>4</th>\n",
       "      <td>2D stencil (k=7)</td>\n",
       "      <td>F</td>\n",
       "      <td>63.682025</td>\n",
       "    </tr>\n",
       "    <tr>\n",
       "      <th>...</th>\n",
       "      <td>...</td>\n",
       "      <td>...</td>\n",
       "      <td>...</td>\n",
       "    </tr>\n",
       "    <tr>\n",
       "      <th>64</th>\n",
       "      <td>Trove (Sum, s=4)</td>\n",
       "      <td>R</td>\n",
       "      <td>0.883055</td>\n",
       "    </tr>\n",
       "    <tr>\n",
       "      <th>65</th>\n",
       "      <td>FFM (w=4, registers)</td>\n",
       "      <td>R</td>\n",
       "      <td>0.002718</td>\n",
       "    </tr>\n",
       "    <tr>\n",
       "      <th>66</th>\n",
       "      <td>Trove (Sum, s=9)</td>\n",
       "      <td>F</td>\n",
       "      <td>3.965552</td>\n",
       "    </tr>\n",
       "    <tr>\n",
       "      <th>67</th>\n",
       "      <td>Trove (Sum, s=11)</td>\n",
       "      <td>F</td>\n",
       "      <td>22.723501</td>\n",
       "    </tr>\n",
       "    <tr>\n",
       "      <th>68</th>\n",
       "      <td>Trove (Sum, s=13)</td>\n",
       "      <td>F</td>\n",
       "      <td>33.578336</td>\n",
       "    </tr>\n",
       "  </tbody>\n",
       "</table>\n",
       "<p>69 rows × 3 columns</p>\n",
       "</div>"
      ],
      "text/plain": [
       "                 Problem Level        Time\n",
       "0       2D stencil (k=7)    FC   63.682025\n",
       "1       2D stencil (k=9)    FC  158.253359\n",
       "2       Trove (CRC, s=7)     F   37.443406\n",
       "3       Trove (CRC, s=9)     F  123.519346\n",
       "4       2D stencil (k=7)     F   63.682025\n",
       "..                   ...   ...         ...\n",
       "64      Trove (Sum, s=4)     R    0.883055\n",
       "65  FFM (w=4, registers)     R    0.002718\n",
       "66      Trove (Sum, s=9)     F    3.965552\n",
       "67     Trove (Sum, s=11)     F   22.723501\n",
       "68     Trove (Sum, s=13)     F   33.578336\n",
       "\n",
       "[69 rows x 3 columns]"
      ]
     },
     "execution_count": 31,
     "metadata": {},
     "output_type": "execute_result"
    }
   ],
   "source": [
    "our_data"
   ]
  },
  {
   "cell_type": "code",
   "execution_count": 32,
   "metadata": {},
   "outputs": [
    {
     "data": {
      "text/plain": [
       "Problem\n",
       "1D convolution (k=11)     20.454559\n",
       "1D convolution (k=13)     28.046552\n",
       "1D convolution (k=3)       1.271847\n",
       "1D convolution (k=5)       3.874825\n",
       "1D convolution (k=7)       7.834212\n",
       "1D convolution (k=9)      26.881445\n",
       "1D stencil (k=3)           1.221500\n",
       "2D stencil (k=3)           0.055568\n",
       "2D stencil (k=5)           0.386437\n",
       "2D stencil (k=7)          63.682025\n",
       "2D stencil (k=9)         158.253359\n",
       "FFM (w=4, registers)       0.003509\n",
       "FFM (w=8, registers)       2.728529\n",
       "Trove (CRC, s=1)           0.000302\n",
       "Trove (CRC, s=2)           0.223812\n",
       "Trove (CRC, s=3)           0.913641\n",
       "Trove (CRC, s=4)           8.063021\n",
       "Trove (CRC, s=5)           7.402925\n",
       "Trove (CRC, s=7)          37.443406\n",
       "Trove (CRC, s=9)         123.519346\n",
       "Trove (RCR, s=1)           0.012050\n",
       "Trove (RCR, s=2)           2.297327\n",
       "Trove (RCR, s=3)           1.059690\n",
       "Trove (RCR, s=4)           7.884500\n",
       "Trove (RCR, s=5)          10.911200\n",
       "Trove (RCR, s=7)          30.479107\n",
       "Trove (RCR, s=9)         102.644953\n",
       "Trove (Sum, s=1)           0.000473\n",
       "Trove (Sum, s=11)         22.723501\n",
       "Trove (Sum, s=13)         33.578336\n",
       "Trove (Sum, s=2)           0.115529\n",
       "Trove (Sum, s=3)           0.283976\n",
       "Trove (Sum, s=4)           0.983048\n",
       "Trove (Sum, s=5)           0.882987\n",
       "Trove (Sum, s=7)           1.879452\n",
       "Trove (Sum, s=9)           3.965552\n",
       "Name: Time, dtype: float64"
      ]
     },
     "execution_count": 32,
     "metadata": {},
     "output_type": "execute_result"
    }
   ],
   "source": [
    "full_data = our_data[our_data['Level'] == 'F'].set_index('Problem')['Time'].sort_index(inplace=False)\n",
    "full_data"
   ]
  },
  {
   "cell_type": "code",
   "execution_count": 33,
   "metadata": {},
   "outputs": [],
   "source": [
    "full_data[\"HVX Gaussian\"] = 0.616050414"
   ]
  },
  {
   "cell_type": "code",
   "execution_count": 34,
   "metadata": {},
   "outputs": [
    {
     "data": {
      "text/plain": [
       "<matplotlib.axes._subplots.AxesSubplot at 0x7f4adbe3aee0>"
      ]
     },
     "execution_count": 34,
     "metadata": {},
     "output_type": "execute_result"
    },
    {
     "data": {
      "image/png": "[encoded data removed]",
      "text/plain": [
       "<Figure size 432x288 with 1 Axes>"
      ]
     },
     "metadata": {
      "needs_background": "light"
     },
     "output_type": "display_data"
    }
   ],
   "source": [
    "fig = plt.figure()\n",
    "ax = fig.add_subplot(1, 1, 1)\n",
    "full_data.iloc[::-1].plot(kind='barh', ax=ax)\n",
    "ax.set_xlabel(\"Time (s)\")\n",
    "ax.set_title(\"Benchmark times (full GPU swizzle grammar)\")\n",
    "fig.tight_layout()\n",
    "fig.savefig(\"/tmp/full-swflow.png\")\n",
    "fig.savefig(\"/tmp/full-swflow.pdf\")\n",
    "ax"
   ]
  },
  {
   "cell_type": "code",
   "execution_count": 35,
   "metadata": {},
   "outputs": [],
   "source": [
    "fig.savefig(\"/tmp/full-swflow.pdf\")"
   ]
  },
  {
   "cell_type": "code",
   "execution_count": 36,
   "metadata": {},
   "outputs": [],
   "source": [
    "import re"
   ]
  },
  {
   "cell_type": "code",
   "execution_count": 37,
   "metadata": {},
   "outputs": [],
   "source": [
    "def to_task_and_size(problem):\n",
    "    match_trove = re.match(r'Trove \\((\\w+), s=(\\d+)\\)', problem)\n",
    "    if match_trove is not None:\n",
    "        return (f\"Trove ({match_trove[1]})\", int(match_trove[2]))\n",
    "    match_ffm = re.match(r'FFM \\(w=(\\d+), registers\\)', problem)\n",
    "    if match_ffm is not None:\n",
    "        return (\"FFM (registers)\", int(match_ffm[1]))\n",
    "    match_2d_stencil = re.match(r'2D stencil \\(k=(\\d+)\\)', problem)\n",
    "    if match_2d_stencil is not None:\n",
    "        return (\"2D Stencil\", int(match_2d_stencil[1]))\n",
    "    match_1d_conv = re.match(r'1D convolution \\(k=(\\d+)\\)', problem)\n",
    "    if match_1d_conv is not None:\n",
    "        return(\"1D Convolution\", int(match_1d_conv[1]))\n",
    "    return (\"Misc\", problem)\n",
    "    "
   ]
  },
  {
   "cell_type": "code",
   "execution_count": 38,
   "metadata": {},
   "outputs": [
    {
     "data": {
      "text/plain": [
       "('Trove (RCR)', 5)"
      ]
     },
     "execution_count": 38,
     "metadata": {},
     "output_type": "execute_result"
    }
   ],
   "source": [
    "to_task_and_size(\"Trove (RCR, s=5)\")"
   ]
  },
  {
   "cell_type": "code",
   "execution_count": 39,
   "metadata": {},
   "outputs": [
    {
     "data": {
      "text/plain": [
       "MultiIndex([( '1D Convolution',                 11),\n",
       "            ( '1D Convolution',                 13),\n",
       "            ( '1D Convolution',                  3),\n",
       "            ( '1D Convolution',                  5),\n",
       "            ( '1D Convolution',                  7),\n",
       "            ( '1D Convolution',                  9),\n",
       "            (           'Misc', '1D stencil (k=3)'),\n",
       "            (     '2D Stencil',                  3),\n",
       "            (     '2D Stencil',                  5),\n",
       "            (     '2D Stencil',                  7),\n",
       "            (     '2D Stencil',                  9),\n",
       "            ('FFM (registers)',                  4),\n",
       "            ('FFM (registers)',                  8),\n",
       "            (    'Trove (CRC)',                  1),\n",
       "            (    'Trove (CRC)',                  2),\n",
       "            (    'Trove (CRC)',                  3),\n",
       "            (    'Trove (CRC)',                  4),\n",
       "            (    'Trove (CRC)',                  5),\n",
       "            (    'Trove (CRC)',                  7),\n",
       "            (    'Trove (CRC)',                  9),\n",
       "            (    'Trove (RCR)',                  1),\n",
       "            (    'Trove (RCR)',                  2),\n",
       "            (    'Trove (RCR)',                  3),\n",
       "            (    'Trove (RCR)',                  4),\n",
       "            (    'Trove (RCR)',                  5),\n",
       "            (    'Trove (RCR)',                  7),\n",
       "            (    'Trove (RCR)',                  9),\n",
       "            (    'Trove (Sum)',                  1),\n",
       "            (    'Trove (Sum)',                 11),\n",
       "            (    'Trove (Sum)',                 13),\n",
       "            (    'Trove (Sum)',                  2),\n",
       "            (    'Trove (Sum)',                  3),\n",
       "            (    'Trove (Sum)',                  4),\n",
       "            (    'Trove (Sum)',                  5),\n",
       "            (    'Trove (Sum)',                  7),\n",
       "            (    'Trove (Sum)',                  9),\n",
       "            (           'Misc',     'HVX Gaussian')],\n",
       "           names=['Task', 'Size'])"
      ]
     },
     "execution_count": 39,
     "metadata": {},
     "output_type": "execute_result"
    }
   ],
   "source": [
    "full_data.index.map(to_task_and_size).rename(['Task', 'Size'])"
   ]
  },
  {
   "cell_type": "code",
   "execution_count": 40,
   "metadata": {},
   "outputs": [],
   "source": [
    "full_data_split = full_data.copy()\n",
    "full_data_split.index = full_data_split.index.map(to_task_and_size).rename(['Task', 'Size'])\n",
    "full_data_split = full_data_split.reset_index()"
   ]
  },
  {
   "cell_type": "code",
   "execution_count": 41,
   "metadata": {},
   "outputs": [
    {
     "data": {
      "image/png": "[encoded data removed]",
      "text/plain": [
       "<Figure size 432x288 with 6 Axes>"
      ]
     },
     "execution_count": 41,
     "metadata": {},
     "output_type": "execute_result"
    },
    {
     "data": {
      "image/png": "[encoded data removed]",
      "text/plain": [
       "<Figure size 432x288 with 6 Axes>"
      ]
     },
     "metadata": {
      "needs_background": "light"
     },
     "output_type": "display_data"
    }
   ],
   "source": [
    "fig, axs = plt.subplots(2, 3)\n",
    "seen_misc = False\n",
    "for (idx, group) in enumerate(full_data_split.groupby('Task')):\n",
    "    task, df = group\n",
    "    if task == \"Misc\":\n",
    "        seen_misc = True\n",
    "        continue\n",
    "    if seen_misc:\n",
    "        idx = idx - 1\n",
    "    ax = axs[idx // 3][idx % 3]\n",
    "    df.set_index('Size').sort_index()['Time'].plot(kind='bar', ax=ax)\n",
    "    ax.set_title(task)\n",
    "    ax.set_ylabel(\"Time (s)\")\n",
    "    if task.startswith(\"Trove\"):\n",
    "        ax.set_xlabel(\"Array width\")\n",
    "    elif task.startswith(\"FFM\"):\n",
    "        ax.set_xlabel(\"Degree\")\n",
    "    elif task.startswith(\"2D\") or task.startswith(\"1D\"):\n",
    "        ax.set_xlabel(\"Filter dimension\")\n",
    "    else:\n",
    "        ax.set_xlabel(\"Problem\")\n",
    "fig.suptitle(\"Synthesis times (full GPU swizzle grammar)\")\n",
    "fig.tight_layout()\n",
    "fig.subplots_adjust(top=0.85)\n",
    "fig.savefig(\"../results/2020-11-05-full-synthesis-times.svg\")\n",
    "fig"
   ]
  },
  {
   "cell_type": "code",
   "execution_count": 42,
   "metadata": {},
   "outputs": [],
   "source": [
    "plt.close(fig)"
   ]
  },
  {
   "cell_type": "code",
   "execution_count": 43,
   "metadata": {},
   "outputs": [],
   "source": [
    "misc_full = full_data_split[full_data_split[\"Task\"] == \"Misc\"]"
   ]
  },
  {
   "cell_type": "code",
   "execution_count": 44,
   "metadata": {},
   "outputs": [
    {
     "data": {
      "image/png": "[encoded data removed]",
      "text/plain": [
       "<Figure size 432x288 with 1 Axes>"
      ]
     },
     "metadata": {
      "needs_background": "light"
     },
     "output_type": "display_data"
    }
   ],
   "source": [
    "fig = plt.figure()\n",
    "ax = fig.add_subplot(1, 1, 1)\n",
    "misc_full.set_index(\"Size\")[[\"Time\"]].plot(kind='barh', ax=ax, legend=False)\n",
    "ax.set_title(\"Misc. benchmarks\")\n",
    "ax.set_ylabel(\"Benchmark\")\n",
    "ax.set_xlabel(\"Time (s)\")\n",
    "fig.tight_layout()\n",
    "fig.savefig(\"../results/2020-11-05-misc-times.svg\")"
   ]
  },
  {
   "cell_type": "code",
   "execution_count": 45,
   "metadata": {},
   "outputs": [],
   "source": [
    "plt.close(fig)"
   ]
  },
  {
   "cell_type": "code",
   "execution_count": 46,
   "metadata": {},
   "outputs": [],
   "source": [
    "df = comparisons_annot[comparisons_annot[\"Level\"] == \"F\"]"
   ]
  },
  {
   "cell_type": "code",
   "execution_count": 47,
   "metadata": {},
   "outputs": [],
   "source": [
    "df = df.set_index(\"Problem\").drop(columns=['Level'])"
   ]
  },
  {
   "cell_type": "code",
   "execution_count": 48,
   "metadata": {},
   "outputs": [],
   "source": [
    "df.index = df.index.map(to_task_and_size).rename(['Task', 'Size'])\n",
    "df = df.reset_index()"
   ]
  },
  {
   "cell_type": "code",
   "execution_count": 49,
   "metadata": {},
   "outputs": [
    {
     "name": "stdout",
     "output_type": "stream",
     "text": [
      "2D Stencil 0\n",
      "Trove (CRC) 1\n",
      "Trove (RCR) 2\n",
      "Trove (Sum) 3\n"
     ]
    },
    {
     "data": {
      "image/png": "[encoded data removed]",
      "text/plain": [
       "<Figure size 432x288 with 4 Axes>"
      ]
     },
     "execution_count": 49,
     "metadata": {},
     "output_type": "execute_result"
    },
    {
     "data": {
      "image/png": "[encoded data removed]",
      "text/plain": [
       "<Figure size 432x288 with 4 Axes>"
      ]
     },
     "metadata": {
      "needs_background": "light"
     },
     "output_type": "display_data"
    }
   ],
   "source": [
    "fig, axs = plt.subplots(2, 2)\n",
    "delta = 0\n",
    "for (idx, group) in enumerate(df.groupby('Task')):\n",
    "    task, subdf = group\n",
    "    if task == 'Misc' or task.startswith(\"1D\"):\n",
    "        delta = delta + 1\n",
    "        continue\n",
    "    idx = idx - delta\n",
    "    print(task, idx)\n",
    "    ax = axs[idx // 2][idx % 2]\n",
    "    subdf.set_index('Size')[['Swizzleflow', 'Swizzle Inventor']].plot(kind='bar', ax=ax, logy=True)\n",
    "    ax.set_title(task)\n",
    "    ax.set_ylabel(\"Time (s)\")\n",
    "    if task.startswith(\"Trove\"):\n",
    "        ax.set_xlabel(\"Array width\")\n",
    "    elif task.startswith(\"2D\"):\n",
    "        ax.set_xlabel(\"Filter dimension\")\n",
    "    else:\n",
    "        ax.set_xlabel(\"Problem\")\n",
    "fig.suptitle(\"Synthesis time comparisons(full GPU swizzle grammar)\")\n",
    "fig.tight_layout()\n",
    "fig.subplots_adjust(top=0.85)\n",
    "fig.savefig(\"/tmp/full-comparisons.png\")\n",
    "fig"
   ]
  },
  {
   "cell_type": "code",
   "execution_count": 50,
   "metadata": {},
   "outputs": [],
   "source": [
    "df_indexed = df.set_index(['Task', 'Size'])"
   ]
  },
  {
   "cell_type": "code",
   "execution_count": 51,
   "metadata": {},
   "outputs": [
    {
     "data": {
      "text/plain": [
       "Task            Size            \n",
       "1D Convolution  3                      17.988802\n",
       "Misc            1D stencil (k=3)       12.987307\n",
       "2D Stencil      3                     926.736776\n",
       "                5                    1493.411688\n",
       "                7                            NaN\n",
       "Trove (Sum)     1                   18835.721332\n",
       "                2                     131.559757\n",
       "                3                      84.440194\n",
       "                4                      35.236342\n",
       "                5                      56.305477\n",
       "                7                      35.151208\n",
       "Trove (CRC)     1                   13151.711311\n",
       "                2                      39.059635\n",
       "                3                      18.649554\n",
       "                4                       2.562687\n",
       "                5                      16.234125\n",
       "                7                       3.838673\n",
       "Trove (RCR)     1                     798.169306\n",
       "                2                     670.420481\n",
       "                3                            NaN\n",
       "                4                            NaN\n",
       "                5                            NaN\n",
       "                7                            NaN\n",
       "dtype: float64"
      ]
     },
     "execution_count": 51,
     "metadata": {},
     "output_type": "execute_result"
    }
   ],
   "source": [
    "df_indexed['Swizzle Inventor'] / df_indexed['Swizzleflow']"
   ]
  },
  {
   "cell_type": "code",
   "execution_count": 52,
   "metadata": {},
   "outputs": [
    {
     "data": {
      "text/html": [
       "<div>\n",
       "<style scoped>\n",
       "    .dataframe tbody tr th:only-of-type {\n",
       "        vertical-align: middle;\n",
       "    }\n",
       "\n",
       "    .dataframe tbody tr th {\n",
       "        vertical-align: top;\n",
       "    }\n",
       "\n",
       "    .dataframe thead th {\n",
       "        text-align: right;\n",
       "    }\n",
       "</style>\n",
       "<table border=\"1\" class=\"dataframe\">\n",
       "  <thead>\n",
       "    <tr style=\"text-align: right;\">\n",
       "      <th></th>\n",
       "      <th>Problem</th>\n",
       "      <th>Level</th>\n",
       "      <th>Swizzleflow</th>\n",
       "      <th>Swizzle Inventor</th>\n",
       "    </tr>\n",
       "  </thead>\n",
       "  <tbody>\n",
       "    <tr>\n",
       "      <th>23</th>\n",
       "      <td>1D convolution (k=3)</td>\n",
       "      <td>FC</td>\n",
       "      <td>0.943547</td>\n",
       "      <td>10.751</td>\n",
       "    </tr>\n",
       "    <tr>\n",
       "      <th>24</th>\n",
       "      <td>1D stencil (k=3)</td>\n",
       "      <td>FC</td>\n",
       "      <td>0.941344</td>\n",
       "      <td>11.641</td>\n",
       "    </tr>\n",
       "    <tr>\n",
       "      <th>25</th>\n",
       "      <td>2D stencil (k=3)</td>\n",
       "      <td>FC</td>\n",
       "      <td>0.055568</td>\n",
       "      <td>45.934</td>\n",
       "    </tr>\n",
       "    <tr>\n",
       "      <th>26</th>\n",
       "      <td>2D stencil (k=5)</td>\n",
       "      <td>FC</td>\n",
       "      <td>0.386437</td>\n",
       "      <td>138.076</td>\n",
       "    </tr>\n",
       "    <tr>\n",
       "      <th>27</th>\n",
       "      <td>2D stencil (k=7)</td>\n",
       "      <td>FC</td>\n",
       "      <td>63.682025</td>\n",
       "      <td>851.822</td>\n",
       "    </tr>\n",
       "  </tbody>\n",
       "</table>\n",
       "</div>"
      ],
      "text/plain": [
       "                 Problem Level  Swizzleflow  Swizzle Inventor\n",
       "23  1D convolution (k=3)    FC     0.943547            10.751\n",
       "24      1D stencil (k=3)    FC     0.941344            11.641\n",
       "25      2D stencil (k=3)    FC     0.055568            45.934\n",
       "26      2D stencil (k=5)    FC     0.386437           138.076\n",
       "27      2D stencil (k=7)    FC    63.682025           851.822"
      ]
     },
     "execution_count": 52,
     "metadata": {},
     "output_type": "execute_result"
    }
   ],
   "source": [
    "comparisons_annot[comparisons_annot['Level'] == 'FC']"
   ]
  },
  {
   "cell_type": "code",
   "execution_count": 53,
   "metadata": {},
   "outputs": [
    {
     "data": {
      "text/plain": [
       "13.507936507936508"
      ]
     },
     "execution_count": 53,
     "metadata": {},
     "output_type": "execute_result"
    }
   ],
   "source": [
    "851 / 63"
   ]
  },
  {
   "cell_type": "code",
   "execution_count": 54,
   "metadata": {},
   "outputs": [
    {
     "data": {
      "image/png": "[encoded data removed]",
      "text/plain": [
       "<Figure size 432x288 with 4 Axes>"
      ]
     },
     "execution_count": 54,
     "metadata": {},
     "output_type": "execute_result"
    },
    {
     "data": {
      "image/png": "[encoded data removed]",
      "text/plain": [
       "<Figure size 432x288 with 4 Axes>"
      ]
     },
     "metadata": {
      "needs_background": "light"
     },
     "output_type": "display_data"
    }
   ],
   "source": [
    "def speedup_plots(df, grammar_desc):\n",
    "    fig, axs = plt.subplots(2, 2)\n",
    "    delta = 0\n",
    "    for (idx, group) in enumerate(df.groupby('Task')):\n",
    "        task, subdf = group\n",
    "        if task == 'Misc' or task.startswith(\"1D\"):\n",
    "            delta = delta + 1\n",
    "            continue\n",
    "        idx = idx - delta\n",
    "        ax = axs[idx // 2][idx % 2]\n",
    "        subdf = subdf.set_index('Size')\n",
    "        if task == \"Trove (CRC)\" or task == \"Trove (Sum)\":\n",
    "            subdf.drop(index=[1], inplace=True)\n",
    "        speedup = subdf['Swizzle Inventor'] / subdf['Swizzleflow']\n",
    "        speedup.name = \"Speedup\"\n",
    "        speedup.plot(kind='bar', ax=ax)\n",
    "        timeout = pd.isnull(speedup)\n",
    "        timeout = timeout.map({True: speedup.max() / 10, False: np.nan})\n",
    "        timeout.name = \"Timeout\"\n",
    "        ax.plot(range(len(timeout)), timeout,\n",
    "                marker='$∞$', linestyle=\"\", markersize=20)\n",
    "        ax.set_title(task)\n",
    "        ax.set_ylabel(\"Speedup factor\")\n",
    "        if task.startswith(\"Trove\"):\n",
    "            ax.set_xlabel(\"Array width\")\n",
    "        elif task.startswith(\"2D\"):\n",
    "            ax.set_xlabel(\"Filter dimension\")\n",
    "        else:\n",
    "            ax.set_xlabel(\"Problem\")\n",
    "    fig.suptitle(f\"Synthesis speedups ({grammar_desc} GPU swizzle grammar)\")\n",
    "    fig.tight_layout()\n",
    "    fig.subplots_adjust(top=0.85)\n",
    "    return fig\n",
    "fig = speedup_plots(df, \"full\")\n",
    "fig.savefig(\"/tmp/speedups.png\")\n",
    "fig"
   ]
  },
  {
   "cell_type": "code",
   "execution_count": 55,
   "metadata": {},
   "outputs": [],
   "source": [
    "plt.close(fig)"
   ]
  },
  {
   "cell_type": "code",
   "execution_count": 56,
   "metadata": {},
   "outputs": [],
   "source": [
    "df = comparisons_annot[comparisons_annot[\"Level\"] == \"R\"]\n",
    "df = df.set_index(\"Problem\").drop(columns=['Level'])\n",
    "df.index = df.index.map(to_task_and_size).rename(['Task', 'Size'])\n",
    "df = df.reset_index()"
   ]
  },
  {
   "cell_type": "code",
   "execution_count": 57,
   "metadata": {},
   "outputs": [
    {
     "data": {
      "image/png": "[encoded data removed]",
      "text/plain": [
       "<Figure size 432x288 with 4 Axes>"
      ]
     },
     "execution_count": 57,
     "metadata": {},
     "output_type": "execute_result"
    },
    {
     "data": {
      "image/png": "[encoded data removed]",
      "text/plain": [
       "<Figure size 432x288 with 4 Axes>"
      ]
     },
     "metadata": {
      "needs_background": "light"
     },
     "output_type": "display_data"
    }
   ],
   "source": [
    "speedup_plots(df, \"restricted\")"
   ]
  },
  {
   "cell_type": "code",
   "execution_count": null,
   "metadata": {},
   "outputs": [],
   "source": []
  }
 ],
 "metadata": {
  "kernelspec": {
   "display_name": "Python 3",
   "language": "python",
   "name": "python3"
  },
  "language_info": {
   "codemirror_mode": {
    "name": "ipython",
    "version": 3
   },
   "file_extension": ".py",
   "mimetype": "text/x-python",
   "name": "python",
   "nbconvert_exporter": "python",
   "pygments_lexer": "ipython3",
   "version": "3.8.2"
  }
 },
 "nbformat": 4,
 "nbformat_minor": 4
}

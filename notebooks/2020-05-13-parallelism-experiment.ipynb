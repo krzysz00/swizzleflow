{
 "cells": [
  {
   "cell_type": "markdown",
   "metadata": {},
   "source": [
    "The experiment consisted of running the non-large (excluding Trove with s=5 and 2D stencil with k=5) matrix multiplication (the single thread algorithm) and to parallelize the computation of each row of the output (the row parallelism case).\n",
    "\n",
    "Code-wise, this was effectively putting some mutexes in and replacing a for loop with a parallel iterator."
   ]
  },
  {
   "cell_type": "code",
   "execution_count": 1,
   "metadata": {},
   "outputs": [],
   "source": [
    "# initial setup\n",
    "import sys\n",
    "sys.path.append(\"../analysis\")"
   ]
  },
  {
   "cell_type": "code",
   "execution_count": 2,
   "metadata": {},
   "outputs": [],
   "source": [
    "import parsing\n",
    "import extraction\n",
    "import timing\n",
    "import utils\n",
    "\n",
    "from extraction import pull_spec_in\n",
    "from utils import fetch"
   ]
  },
  {
   "cell_type": "code",
   "execution_count": 3,
   "metadata": {},
   "outputs": [],
   "source": [
    "import numpy as np\n",
    "import matplotlib.pyplot as plt\n",
    "import pandas as pd"
   ]
  },
  {
   "cell_type": "code",
   "execution_count": 4,
   "metadata": {},
   "outputs": [],
   "source": [
    "%matplotlib inline"
   ]
  },
  {
   "cell_type": "code",
   "execution_count": 5,
   "metadata": {},
   "outputs": [],
   "source": [
    "single_thread_raw = fetch(\"2020-05-13-single-thread-multiplies\")\n",
    "parallel_row_raw = fetch(\"2020-05-13-parallel-row-multiplies\")"
   ]
  },
  {
   "cell_type": "code",
   "execution_count": 6,
   "metadata": {},
   "outputs": [],
   "source": [
    "single_thread_all_data = pull_spec_in(extraction.matrix_stats(single_thread_raw))\n",
    "parallel_row_all_data = pull_spec_in(extraction.matrix_stats(parallel_row_raw))\n",
    "\n",
    "single_thread_times = single_thread_all_data[\n",
    "    single_thread_all_data['category'] == 'mul']\\\n",
    "    .set_index('key')[[\"spec\", \"time\"]]\n",
    "parallel_row_times = parallel_row_all_data[\n",
    "    parallel_row_all_data['category'] == 'mul']\\\n",
    "    .set_index('key')[[\"spec\", \"time\"]]"
   ]
  },
  {
   "cell_type": "code",
   "execution_count": 7,
   "metadata": {},
   "outputs": [],
   "source": [
    "parallel_row_time = parallel_row_times['time'].sort_index()\n",
    "parallel_row_time.name = \"Parallel row time\"\n",
    "single_thread_time = single_thread_times['time'].sort_index()\n",
    "single_thread_time.name = \"Single thread time\""
   ]
  },
  {
   "cell_type": "code",
   "execution_count": 8,
   "metadata": {},
   "outputs": [
    {
     "data": {
      "text/html": [
       "<div>\n",
       "<style scoped>\n",
       "    .dataframe tbody tr th:only-of-type {\n",
       "        vertical-align: middle;\n",
       "    }\n",
       "\n",
       "    .dataframe tbody tr th {\n",
       "        vertical-align: top;\n",
       "    }\n",
       "\n",
       "    .dataframe thead th {\n",
       "        text-align: right;\n",
       "    }\n",
       "</style>\n",
       "<table border=\"1\" class=\"dataframe\">\n",
       "  <thead>\n",
       "    <tr style=\"text-align: right;\">\n",
       "      <th></th>\n",
       "      <th>Single thread time</th>\n",
       "      <th>Parallel row time</th>\n",
       "    </tr>\n",
       "    <tr>\n",
       "      <th>key</th>\n",
       "      <th></th>\n",
       "      <th></th>\n",
       "    </tr>\n",
       "  </thead>\n",
       "  <tbody>\n",
       "    <tr>\n",
       "      <th>matrices/32,1-col_rots_32,1-col_rots-32,1</th>\n",
       "      <td>0.173624</td>\n",
       "      <td>0.145483</td>\n",
       "    </tr>\n",
       "    <tr>\n",
       "      <th>matrices/32,1-col_rots_no_group_32,1-col_rots_no_group-32,1</th>\n",
       "      <td>0.139934</td>\n",
       "      <td>0.105436</td>\n",
       "    </tr>\n",
       "    <tr>\n",
       "      <th>matrices/32,1-row_rots_32,1-col_rots-32,1</th>\n",
       "      <td>0.015398</td>\n",
       "      <td>0.045018</td>\n",
       "    </tr>\n",
       "    <tr>\n",
       "      <th>matrices/32,1-row_rots_no_group_32,1-col_rots_no_group-32,1</th>\n",
       "      <td>0.015117</td>\n",
       "      <td>0.032332</td>\n",
       "    </tr>\n",
       "    <tr>\n",
       "      <th>matrices/32,2-col_rots_32,2-col_xforms-32,2</th>\n",
       "      <td>2.490377</td>\n",
       "      <td>2.714008</td>\n",
       "    </tr>\n",
       "    <tr>\n",
       "      <th>...</th>\n",
       "      <td>...</td>\n",
       "      <td>...</td>\n",
       "    </tr>\n",
       "    <tr>\n",
       "      <th>matrices/8-reshape_2,4-transpose_4,2-cond_keep_no_consts{restrict[1|1]}_4,2,4-broadcast{group[1]}_4,4-rots_no_group{main[0]out[1]second[1]}-4,4</th>\n",
       "      <td>0.001348</td>\n",
       "      <td>0.001857</td>\n",
       "    </tr>\n",
       "    <tr>\n",
       "      <th>matrices/8-reshape_2,4-transpose_4,2-cond_keep{restrict[1|1]}-4,2,4</th>\n",
       "      <td>0.000634</td>\n",
       "      <td>0.001005</td>\n",
       "    </tr>\n",
       "    <tr>\n",
       "      <th>matrices/8-reshape_2,4-transpose_4,2-cond_keep{restrict[1|1]}_4,2,4-broadcast{group[1]}-4,4</th>\n",
       "      <td>0.001876</td>\n",
       "      <td>0.002452</td>\n",
       "    </tr>\n",
       "    <tr>\n",
       "      <th>matrices/8-reshape_2,4-transpose_4,2-cond_keep{restrict[1|1]}_4,2,4-broadcast{group[1]}_4,4-rots_no_group{main[0]out[1]second[1]}-4,4</th>\n",
       "      <td>0.001283</td>\n",
       "      <td>0.001833</td>\n",
       "    </tr>\n",
       "    <tr>\n",
       "      <th>matrices/8-reshape_2,4-transpose_4,2-cond_keep{restrict[1|1]}_4,2,4-broadcast{group[1]}_4,4-rots{main[0]out[1]second[1]}-4,4</th>\n",
       "      <td>0.001278</td>\n",
       "      <td>0.002872</td>\n",
       "    </tr>\n",
       "  </tbody>\n",
       "</table>\n",
       "<p>95 rows × 2 columns</p>\n",
       "</div>"
      ],
      "text/plain": [
       "                                                    Single thread time  \\\n",
       "key                                                                      \n",
       "matrices/32,1-col_rots_32,1-col_rots-32,1                     0.173624   \n",
       "matrices/32,1-col_rots_no_group_32,1-col_rots_n...            0.139934   \n",
       "matrices/32,1-row_rots_32,1-col_rots-32,1                     0.015398   \n",
       "matrices/32,1-row_rots_no_group_32,1-col_rots_n...            0.015117   \n",
       "matrices/32,2-col_rots_32,2-col_xforms-32,2                   2.490377   \n",
       "...                                                                ...   \n",
       "matrices/8-reshape_2,4-transpose_4,2-cond_keep_...            0.001348   \n",
       "matrices/8-reshape_2,4-transpose_4,2-cond_keep{...            0.000634   \n",
       "matrices/8-reshape_2,4-transpose_4,2-cond_keep{...            0.001876   \n",
       "matrices/8-reshape_2,4-transpose_4,2-cond_keep{...            0.001283   \n",
       "matrices/8-reshape_2,4-transpose_4,2-cond_keep{...            0.001278   \n",
       "\n",
       "                                                    Parallel row time  \n",
       "key                                                                    \n",
       "matrices/32,1-col_rots_32,1-col_rots-32,1                    0.145483  \n",
       "matrices/32,1-col_rots_no_group_32,1-col_rots_n...           0.105436  \n",
       "matrices/32,1-row_rots_32,1-col_rots-32,1                    0.045018  \n",
       "matrices/32,1-row_rots_no_group_32,1-col_rots_n...           0.032332  \n",
       "matrices/32,2-col_rots_32,2-col_xforms-32,2                  2.714008  \n",
       "...                                                               ...  \n",
       "matrices/8-reshape_2,4-transpose_4,2-cond_keep_...           0.001857  \n",
       "matrices/8-reshape_2,4-transpose_4,2-cond_keep{...           0.001005  \n",
       "matrices/8-reshape_2,4-transpose_4,2-cond_keep{...           0.002452  \n",
       "matrices/8-reshape_2,4-transpose_4,2-cond_keep{...           0.001833  \n",
       "matrices/8-reshape_2,4-transpose_4,2-cond_keep{...           0.002872  \n",
       "\n",
       "[95 rows x 2 columns]"
      ]
     },
     "execution_count": 8,
     "metadata": {},
     "output_type": "execute_result"
    }
   ],
   "source": [
    "time_table = pd.concat([single_thread_time, parallel_row_time], axis=1)\n",
    "time_table"
   ]
  },
  {
   "cell_type": "code",
   "execution_count": 9,
   "metadata": {},
   "outputs": [
    {
     "data": {
      "text/plain": [
       "key\n",
       "matrices/32,1-col_rots_32,1-col_rots-32,1                                                                                                          1.193431\n",
       "matrices/32,1-col_rots_no_group_32,1-col_rots_no_group-32,1                                                                                        1.327190\n",
       "matrices/32,1-row_rots_32,1-col_rots-32,1                                                                                                          0.342048\n",
       "matrices/32,1-row_rots_no_group_32,1-col_rots_no_group-32,1                                                                                        0.467560\n",
       "matrices/32,2-col_rots_32,2-col_xforms-32,2                                                                                                        0.917601\n",
       "                                                                                                                                                     ...   \n",
       "matrices/8-reshape_2,4-transpose_4,2-cond_keep_no_consts{restrict[1|1]}_4,2,4-broadcast{group[1]}_4,4-rots_no_group{main[0]out[1]second[1]}-4,4    0.726030\n",
       "matrices/8-reshape_2,4-transpose_4,2-cond_keep{restrict[1|1]}-4,2,4                                                                                0.630168\n",
       "matrices/8-reshape_2,4-transpose_4,2-cond_keep{restrict[1|1]}_4,2,4-broadcast{group[1]}-4,4                                                        0.765293\n",
       "matrices/8-reshape_2,4-transpose_4,2-cond_keep{restrict[1|1]}_4,2,4-broadcast{group[1]}_4,4-rots_no_group{main[0]out[1]second[1]}-4,4              0.699873\n",
       "matrices/8-reshape_2,4-transpose_4,2-cond_keep{restrict[1|1]}_4,2,4-broadcast{group[1]}_4,4-rots{main[0]out[1]second[1]}-4,4                       0.444880\n",
       "Name: Speedup, Length: 95, dtype: float64"
      ]
     },
     "execution_count": 9,
     "metadata": {},
     "output_type": "execute_result"
    }
   ],
   "source": [
    "speedup = single_thread_time / parallel_row_time\n",
    "speedup.name = \"Speedup\"\n",
    "speedup"
   ]
  },
  {
   "cell_type": "code",
   "execution_count": 10,
   "metadata": {},
   "outputs": [
    {
     "data": {
      "text/plain": [
       "0.5572549309013302"
      ]
     },
     "execution_count": 10,
     "metadata": {},
     "output_type": "execute_result"
    }
   ],
   "source": [
    "speedup.mean()"
   ]
  },
  {
   "cell_type": "markdown",
   "metadata": {},
   "source": [
    "Interestingly, we can see that (unless I screwed up the experiments somehow), this parallelization strategy actually makes the multiplication *slower* on average."
   ]
  },
  {
   "cell_type": "code",
   "execution_count": 11,
   "metadata": {},
   "outputs": [
    {
     "data": {
      "image/png": "[encoded data removed]",
      "text/plain": [
       "<Figure size 432x288 with 1 Axes>"
      ]
     },
     "metadata": {
      "needs_background": "light"
     },
     "output_type": "display_data"
    }
   ],
   "source": [
    "ax = (speedup.reset_index()['Speedup'] - 1)\\\n",
    ".plot(kind='bar', use_index=False)\n",
    "ax.set_ylabel(\"Speedup (minus 1)\")\n",
    "ax.set_xticks([])\n",
    "ax.set_title(\"Speedups from parallelism\")\n",
    "None"
   ]
  },
  {
   "cell_type": "markdown",
   "metadata": {},
   "source": [
    "My initial thought on the problem here is that this parallelism strategy (computing the rows in parallel, with work-stealing) just increases the memory bottlenecks in this algorith (which already involves a lot of random memory access). Hyperthreading (if it's getting involved) might not be helping here.\n",
    "\n",
    "It's also possible that the overhead of spawning threads isn't worth it in most cases, maybe because each individual row is so fast to compute.\n",
    "\n",
    "More experiments are needed to find a parallelization strategy that works.\n",
    "\n",
    "Initial thoughts include:\n",
    "* Batches of rows as one work unit\n",
    "* Parallelizing the part of the algorithm that scans through the matrix for an intersection after the vector of 1s in a row of $a$ has been computed\n",
    "* Searching for or devising algorithms that allow for tiling (there's  a Four Russians' algorithm that might parallelize better)"
   ]
  },
  {
   "cell_type": "code",
   "execution_count": 12,
   "metadata": {},
   "outputs": [],
   "source": [
    "time_table['Speedup'] = speedup"
   ]
  },
  {
   "cell_type": "code",
   "execution_count": 13,
   "metadata": {},
   "outputs": [],
   "source": [
    "time_table.to_csv('../results/2020-05-13-row-parallelism-times.csv')"
   ]
  },
  {
   "cell_type": "code",
   "execution_count": null,
   "metadata": {},
   "outputs": [],
   "source": []
  }
 ],
 "metadata": {
  "kernelspec": {
   "display_name": "Python 3",
   "language": "python",
   "name": "python3"
  },
  "language_info": {
   "codemirror_mode": {
    "name": "ipython",
    "version": 3
   },
   "file_extension": ".py",
   "mimetype": "text/x-python",
   "name": "python",
   "nbconvert_exporter": "python",
   "pygments_lexer": "ipython3",
   "version": "3.8.2"
  }
 },
 "nbformat": 4,
 "nbformat_minor": 4
}

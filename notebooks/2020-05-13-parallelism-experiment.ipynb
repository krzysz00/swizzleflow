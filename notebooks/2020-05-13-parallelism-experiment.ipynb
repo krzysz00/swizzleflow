{
 "cells": [
  {
   "cell_type": "markdown",
   "metadata": {},
   "source": [
    "The experiment consisted of running the non-large (excluding Trove with s=5 and 2D stencil with k=5) matrix multiplication (the single thread algorithm) and to parallelize the computation of each row of the output (the row parallelism case).\n",
    "\n",
    "Code-wise, this was effectively putting some mutexes in and replacing a for loop with a parallel iterator."
   ]
  },
  {
   "cell_type": "code",
   "execution_count": 1,
   "metadata": {},
   "outputs": [],
   "source": [
    "# initial setup\n",
    "import sys\n",
    "sys.path.append(\"../analysis\")"
   ]
  },
  {
   "cell_type": "code",
   "execution_count": 2,
   "metadata": {},
   "outputs": [],
   "source": [
    "import parsing\n",
    "import extraction\n",
    "import timing\n",
    "import utils\n",
    "\n",
    "from extraction import pull_spec_in\n",
    "from utils import fetch"
   ]
  },
  {
   "cell_type": "code",
   "execution_count": 3,
   "metadata": {},
   "outputs": [],
   "source": [
    "import numpy as np\n",
    "import matplotlib.pyplot as plt\n",
    "import pandas as pd"
   ]
  },
  {
   "cell_type": "code",
   "execution_count": 4,
   "metadata": {},
   "outputs": [],
   "source": [
    "%matplotlib inline"
   ]
  },
  {
   "cell_type": "code",
   "execution_count": 5,
   "metadata": {},
   "outputs": [],
   "source": [
    "single_thread_raw = fetch(\"2020-05-13-single-thread-multiplies\")\n",
    "parallel_row_raw = fetch(\"2020-05-13-parallel-row-multiplies\")"
   ]
  },
  {
   "cell_type": "code",
   "execution_count": 6,
   "metadata": {},
   "outputs": [],
   "source": [
    "single_thread_all_data = pull_spec_in(extraction.matrix_stats(single_thread_raw))\n",
    "parallel_row_all_data = pull_spec_in(extraction.matrix_stats(parallel_row_raw))\n",
    "\n",
    "single_thread_times = single_thread_all_data[\n",
    "    single_thread_all_data['category'] == 'mul']\\\n",
    "    .set_index('key')[[\"spec\", \"time\"]]\n",
    "parallel_row_times = parallel_row_all_data[\n",
    "    parallel_row_all_data['category'] == 'mul']\\\n",
    "    .set_index('key')[[\"spec\", \"time\"]]"
   ]
  },
  {
   "cell_type": "code",
   "execution_count": 7,
   "metadata": {},
   "outputs": [],
   "source": [
    "parallel_row_time = parallel_row_times['time'].sort_index()\n",
    "parallel_row_time.name = \"Parallel row time\"\n",
    "single_thread_time = single_thread_times['time'].sort_index()\n",
    "single_thread_time.name = \"Single thread time\""
   ]
  },
  {
   "cell_type": "code",
   "execution_count": 8,
   "metadata": {},
   "outputs": [
    {
     "data": {
      "text/html": [
       "<div>\n",
       "<style scoped>\n",
       "    .dataframe tbody tr th:only-of-type {\n",
       "        vertical-align: middle;\n",
       "    }\n",
       "\n",
       "    .dataframe tbody tr th {\n",
       "        vertical-align: top;\n",
       "    }\n",
       "\n",
       "    .dataframe thead th {\n",
       "        text-align: right;\n",
       "    }\n",
       "</style>\n",
       "<table border=\"1\" class=\"dataframe\">\n",
       "  <thead>\n",
       "    <tr style=\"text-align: right;\">\n",
       "      <th></th>\n",
       "      <th>Single thread time</th>\n",
       "      <th>Parallel row time</th>\n",
       "    </tr>\n",
       "    <tr>\n",
       "      <th>key</th>\n",
       "      <th></th>\n",
       "      <th></th>\n",
       "    </tr>\n",
       "  </thead>\n",
       "  <tbody>\n",
       "    <tr>\n",
       "      <th>matrices/32,1-col_rots_32,1-col_rots-32,1</th>\n",
       "      <td>0.173624</td>\n",
       "      <td>0.145483</td>\n",
       "    </tr>\n",
       "    <tr>\n",
       "      <th>matrices/32,1-col_rots_no_group_32,1-col_rots_no_group-32,1</th>\n",
       "      <td>0.139934</td>\n",
       "      <td>0.105436</td>\n",
       "    </tr>\n",
       "    <tr>\n",
       "      <th>matrices/32,1-row_rots_32,1-col_rots-32,1</th>\n",
       "      <td>0.015398</td>\n",
       "      <td>0.045018</td>\n",
       "    </tr>\n",
       "    <tr>\n",
       "      <th>matrices/32,1-row_rots_no_group_32,1-col_rots_no_group-32,1</th>\n",
       "      <td>0.015117</td>\n",
       "      <td>0.032332</td>\n",
       "    </tr>\n",
       "    <tr>\n",
       "      <th>matrices/32,2-col_rots_32,2-col_xforms-32,2</th>\n",
       "      <td>2.490377</td>\n",
       "      <td>2.714008</td>\n",
       "    </tr>\n",
       "    <tr>\n",
       "      <th>...</th>\n",
       "      <td>...</td>\n",
       "      <td>...</td>\n",
       "    </tr>\n",
       "    <tr>\n",
       "      <th>matrices/8-reshape_2,4-transpose_4,2-cond_keep_no_consts{restrict[1|1]}_4,2,4-broadcast{group[1]}_4,4-rots_no_group{main[0]out[1]second[1]}-4,4</th>\n",
       "      <td>0.001348</td>\n",
       "      <td>0.001857</td>\n",
       "    </tr>\n",
       "    <tr>\n",
       "      <th>matrices/8-reshape_2,4-transpose_4,2-cond_keep{restrict[1|1]}-4,2,4</th>\n",
       "      <td>0.000634</td>\n",
       "      <td>0.001005</td>\n",
       "    </tr>\n",
       "    <tr>\n",
       "      <th>matrices/8-reshape_2,4-transpose_4,2-cond_keep{restrict[1|1]}_4,2,4-broadcast{group[1]}-4,4</th>\n",
       "      <td>0.001876</td>\n",
       "      <td>0.002452</td>\n",
       "    </tr>\n",
       "    <tr>\n",
       "      <th>matrices/8-reshape_2,4-transpose_4,2-cond_keep{restrict[1|1]}_4,2,4-broadcast{group[1]}_4,4-rots_no_group{main[0]out[1]second[1]}-4,4</th>\n",
       "      <td>0.001283</td>\n",
       "      <td>0.001833</td>\n",
       "    </tr>\n",
       "    <tr>\n",
       "      <th>matrices/8-reshape_2,4-transpose_4,2-cond_keep{restrict[1|1]}_4,2,4-broadcast{group[1]}_4,4-rots{main[0]out[1]second[1]}-4,4</th>\n",
       "      <td>0.001278</td>\n",
       "      <td>0.002872</td>\n",
       "    </tr>\n",
       "  </tbody>\n",
       "</table>\n",
       "<p>95 rows × 2 columns</p>\n",
       "</div>"
      ],
      "text/plain": [
       "                                                    Single thread time  \\\n",
       "key                                                                      \n",
       "matrices/32,1-col_rots_32,1-col_rots-32,1                     0.173624   \n",
       "matrices/32,1-col_rots_no_group_32,1-col_rots_n...            0.139934   \n",
       "matrices/32,1-row_rots_32,1-col_rots-32,1                     0.015398   \n",
       "matrices/32,1-row_rots_no_group_32,1-col_rots_n...            0.015117   \n",
       "matrices/32,2-col_rots_32,2-col_xforms-32,2                   2.490377   \n",
       "...                                                                ...   \n",
       "matrices/8-reshape_2,4-transpose_4,2-cond_keep_...            0.001348   \n",
       "matrices/8-reshape_2,4-transpose_4,2-cond_keep{...            0.000634   \n",
       "matrices/8-reshape_2,4-transpose_4,2-cond_keep{...            0.001876   \n",
       "matrices/8-reshape_2,4-transpose_4,2-cond_keep{...            0.001283   \n",
       "matrices/8-reshape_2,4-transpose_4,2-cond_keep{...            0.001278   \n",
       "\n",
       "                                                    Parallel row time  \n",
       "key                                                                    \n",
       "matrices/32,1-col_rots_32,1-col_rots-32,1                    0.145483  \n",
       "matrices/32,1-col_rots_no_group_32,1-col_rots_n...           0.105436  \n",
       "matrices/32,1-row_rots_32,1-col_rots-32,1                    0.045018  \n",
       "matrices/32,1-row_rots_no_group_32,1-col_rots_n...           0.032332  \n",
       "matrices/32,2-col_rots_32,2-col_xforms-32,2                  2.714008  \n",
       "...                                                               ...  \n",
       "matrices/8-reshape_2,4-transpose_4,2-cond_keep_...           0.001857  \n",
       "matrices/8-reshape_2,4-transpose_4,2-cond_keep{...           0.001005  \n",
       "matrices/8-reshape_2,4-transpose_4,2-cond_keep{...           0.002452  \n",
       "matrices/8-reshape_2,4-transpose_4,2-cond_keep{...           0.001833  \n",
       "matrices/8-reshape_2,4-transpose_4,2-cond_keep{...           0.002872  \n",
       "\n",
       "[95 rows x 2 columns]"
      ]
     },
     "execution_count": 8,
     "metadata": {},
     "output_type": "execute_result"
    }
   ],
   "source": [
    "time_table = pd.concat([single_thread_time, parallel_row_time], axis=1)\n",
    "time_table"
   ]
  },
  {
   "cell_type": "code",
   "execution_count": 9,
   "metadata": {},
   "outputs": [
    {
     "data": {
      "text/plain": [
       "key\n",
       "matrices/32,1-col_rots_32,1-col_rots-32,1                                                                                                          1.193431\n",
       "matrices/32,1-col_rots_no_group_32,1-col_rots_no_group-32,1                                                                                        1.327190\n",
       "matrices/32,1-row_rots_32,1-col_rots-32,1                                                                                                          0.342048\n",
       "matrices/32,1-row_rots_no_group_32,1-col_rots_no_group-32,1                                                                                        0.467560\n",
       "matrices/32,2-col_rots_32,2-col_xforms-32,2                                                                                                        0.917601\n",
       "                                                                                                                                                     ...   \n",
       "matrices/8-reshape_2,4-transpose_4,2-cond_keep_no_consts{restrict[1|1]}_4,2,4-broadcast{group[1]}_4,4-rots_no_group{main[0]out[1]second[1]}-4,4    0.726030\n",
       "matrices/8-reshape_2,4-transpose_4,2-cond_keep{restrict[1|1]}-4,2,4                                                                                0.630168\n",
       "matrices/8-reshape_2,4-transpose_4,2-cond_keep{restrict[1|1]}_4,2,4-broadcast{group[1]}-4,4                                                        0.765293\n",
       "matrices/8-reshape_2,4-transpose_4,2-cond_keep{restrict[1|1]}_4,2,4-broadcast{group[1]}_4,4-rots_no_group{main[0]out[1]second[1]}-4,4              0.699873\n",
       "matrices/8-reshape_2,4-transpose_4,2-cond_keep{restrict[1|1]}_4,2,4-broadcast{group[1]}_4,4-rots{main[0]out[1]second[1]}-4,4                       0.444880\n",
       "Name: Speedup, Length: 95, dtype: float64"
      ]
     },
     "execution_count": 9,
     "metadata": {},
     "output_type": "execute_result"
    }
   ],
   "source": [
    "speedup = single_thread_time / parallel_row_time\n",
    "speedup.name = \"Speedup\"\n",
    "speedup"
   ]
  },
  {
   "cell_type": "code",
   "execution_count": 10,
   "metadata": {},
   "outputs": [
    {
     "data": {
      "text/plain": [
       "0.5572549309013302"
      ]
     },
     "execution_count": 10,
     "metadata": {},
     "output_type": "execute_result"
    }
   ],
   "source": [
    "speedup.mean()"
   ]
  },
  {
   "cell_type": "markdown",
   "metadata": {},
   "source": [
    "Interestingly, we can see that (unless I screwed up the experiments somehow), this parallelization strategy actually makes the multiplication *slower* on average."
   ]
  },
  {
   "cell_type": "code",
   "execution_count": 11,
   "metadata": {},
   "outputs": [
    {
     "data": {
      "image/png": "[encoded data removed]",
      "text/plain": [
       "<Figure size 432x288 with 1 Axes>"
      ]
     },
     "metadata": {
      "needs_background": "light"
     },
     "output_type": "display_data"
    }
   ],
   "source": [
    "ax = (speedup.reset_index()['Speedup'] - 1)\\\n",
    ".plot(kind='bar', use_index=False)\n",
    "ax.set_ylabel(\"Speedup (minus 1)\")\n",
    "ax.set_xticks([])\n",
    "ax.set_title(\"Speedups from parallelism\")\n",
    "None"
   ]
  },
  {
   "cell_type": "markdown",
   "metadata": {},
   "source": [
    "My initial thought on the problem here is that this parallelism strategy (computing the rows in parallel, with work-stealing) just increases the memory bottlenecks in this algorith (which already involves a lot of random memory access). Hyperthreading (if it's getting involved) might not be helping here.\n",
    "\n",
    "It's also possible that the overhead of spawning threads isn't worth it in most cases, maybe because each individual row is so fast to compute.\n",
    "\n",
    "More experiments are needed to find a parallelization strategy that works.\n",
    "\n",
    "Initial thoughts include:\n",
    "* Batches of rows as one work unit\n",
    "* Parallelizing the part of the algorithm that scans through the matrix for an intersection after the vector of 1s in a row of $a$ has been computed\n",
    "* Searching for or devising algorithms that allow for tiling (there's  a Four Russians' algorithm that might parallelize better)"
   ]
  },
  {
   "cell_type": "code",
   "execution_count": 12,
   "metadata": {},
   "outputs": [],
   "source": [
    "time_table['Speedup'] = speedup"
   ]
  },
  {
   "cell_type": "code",
   "execution_count": 13,
   "metadata": {},
   "outputs": [],
   "source": [
    "time_table.to_csv('../results/2020-05-13-row-parallelism-times.csv')"
   ]
  },
  {
   "cell_type": "code",
   "execution_count": 14,
   "metadata": {},
   "outputs": [],
   "source": [
    "rows_tiled_raw = fetch(\"2020-05-14-parallel-rows-tiled\")"
   ]
  },
  {
   "cell_type": "code",
   "execution_count": 15,
   "metadata": {},
   "outputs": [],
   "source": [
    "rows_tiled_all_data = pull_spec_in(extraction.matrix_stats(rows_tiled_raw))"
   ]
  },
  {
   "cell_type": "code",
   "execution_count": 16,
   "metadata": {},
   "outputs": [],
   "source": [
    "rows_tiled_times = rows_tiled_all_data[\n",
    "    rows_tiled_all_data['category'] == 'mul']\\\n",
    "    .set_index('key')[[\"spec\", \"time\"]]"
   ]
  },
  {
   "cell_type": "code",
   "execution_count": 17,
   "metadata": {},
   "outputs": [],
   "source": [
    "rows_tiled_time = rows_tiled_times['time'].sort_index()\n",
    "rows_tiled_time.name = \"Tiled rows time (size=32)\""
   ]
  },
  {
   "cell_type": "code",
   "execution_count": 18,
   "metadata": {},
   "outputs": [
    {
     "data": {
      "text/plain": [
       "key\n",
       "matrices/32,1-col_rots_32,1-col_rots-32,1                                                                                                          2.898540\n",
       "matrices/32,1-col_rots_no_group_32,1-col_rots_no_group-32,1                                                                                        3.322043\n",
       "matrices/32,1-row_rots_32,1-col_rots-32,1                                                                                                          0.931154\n",
       "matrices/32,1-row_rots_no_group_32,1-col_rots_no_group-32,1                                                                                        0.983498\n",
       "matrices/32,2-col_rots_32,2-col_xforms-32,2                                                                                                        2.513810\n",
       "                                                                                                                                                     ...   \n",
       "matrices/8-reshape_2,4-transpose_4,2-cond_keep_no_consts{restrict[1|1]}_4,2,4-broadcast{group[1]}_4,4-rots_no_group{main[0]out[1]second[1]}-4,4    1.005895\n",
       "matrices/8-reshape_2,4-transpose_4,2-cond_keep{restrict[1|1]}-4,2,4                                                                                0.906365\n",
       "matrices/8-reshape_2,4-transpose_4,2-cond_keep{restrict[1|1]}_4,2,4-broadcast{group[1]}-4,4                                                        0.875177\n",
       "matrices/8-reshape_2,4-transpose_4,2-cond_keep{restrict[1|1]}_4,2,4-broadcast{group[1]}_4,4-rots_no_group{main[0]out[1]second[1]}-4,4              0.944167\n",
       "matrices/8-reshape_2,4-transpose_4,2-cond_keep{restrict[1|1]}_4,2,4-broadcast{group[1]}_4,4-rots{main[0]out[1]second[1]}-4,4                       0.950136\n",
       "Name: Speedup (tiled), Length: 95, dtype: float64"
      ]
     },
     "execution_count": 18,
     "metadata": {},
     "output_type": "execute_result"
    }
   ],
   "source": [
    "speedup_tiled = single_thread_time / rows_tiled_time\n",
    "speedup_tiled.name = \"Speedup (tiled)\"\n",
    "speedup_tiled"
   ]
  },
  {
   "cell_type": "code",
   "execution_count": 19,
   "metadata": {},
   "outputs": [
    {
     "data": {
      "text/plain": [
       "1.3017372695552978"
      ]
     },
     "execution_count": 19,
     "metadata": {},
     "output_type": "execute_result"
    }
   ],
   "source": [
    "speedup_tiled.mean()"
   ]
  },
  {
   "cell_type": "code",
   "execution_count": 20,
   "metadata": {},
   "outputs": [
    {
     "data": {
      "text/plain": [
       "'matrices/32,4-col_rots_32,4-col_xforms-32,4'"
      ]
     },
     "execution_count": 20,
     "metadata": {},
     "output_type": "execute_result"
    }
   ],
   "source": [
    "speedup_tiled.index[speedup_tiled.argmax()]"
   ]
  },
  {
   "cell_type": "code",
   "execution_count": 21,
   "metadata": {},
   "outputs": [
    {
     "data": {
      "image/png": "[encoded data removed]",
      "text/plain": [
       "<Figure size 432x288 with 1 Axes>"
      ]
     },
     "metadata": {
      "needs_background": "light"
     },
     "output_type": "display_data"
    }
   ],
   "source": [
    "ax = (speedup_tiled.reset_index()['Speedup (tiled)'] - 1)\\\n",
    ".plot(kind='bar', use_index=False)\n",
    "ax.set_ylabel(\"Speedup (minus 1)\")\n",
    "ax.set_xticks([])\n",
    "ax.set_title(\"Speedups from parallelism, rows in groups of 32\")\n",
    "None"
   ]
  },
  {
   "cell_type": "code",
   "execution_count": 22,
   "metadata": {},
   "outputs": [
    {
     "data": {
      "text/plain": [
       "'matrices/32,3-row_rots_32,3-row_xforms_32,3-col_rots_32,3-col_xforms_32,3-row_rots-32,3'"
      ]
     },
     "execution_count": 22,
     "metadata": {},
     "output_type": "execute_result"
    }
   ],
   "source": [
    "speedup_tiled.index[speedup_tiled.argmin()]"
   ]
  },
  {
   "cell_type": "code",
   "execution_count": 23,
   "metadata": {},
   "outputs": [
    {
     "data": {
      "text/plain": [
       "-272.248315521"
      ]
     },
     "execution_count": 23,
     "metadata": {},
     "output_type": "execute_result"
    }
   ],
   "source": [
    "single_thread_time.sum() - rows_tiled_time.sum()"
   ]
  },
  {
   "cell_type": "markdown",
   "metadata": {},
   "source": [
    "Good news: if we tile the rows, we get significant speedups ... except that when we don't, we _really_ don't, and the experiment gets a lot slower"
   ]
  },
  {
   "cell_type": "code",
   "execution_count": 24,
   "metadata": {},
   "outputs": [
    {
     "data": {
      "text/html": [
       "<div>\n",
       "<style scoped>\n",
       "    .dataframe tbody tr th:only-of-type {\n",
       "        vertical-align: middle;\n",
       "    }\n",
       "\n",
       "    .dataframe tbody tr th {\n",
       "        vertical-align: top;\n",
       "    }\n",
       "\n",
       "    .dataframe thead th {\n",
       "        text-align: right;\n",
       "    }\n",
       "</style>\n",
       "<table border=\"1\" class=\"dataframe\">\n",
       "  <thead>\n",
       "    <tr style=\"text-align: right;\">\n",
       "      <th></th>\n",
       "      <th>Single thread time</th>\n",
       "      <th>Parallel row time</th>\n",
       "      <th>Speedup</th>\n",
       "      <th>Tiled rows time (size=32)</th>\n",
       "      <th>Speedup (tiled)</th>\n",
       "    </tr>\n",
       "    <tr>\n",
       "      <th>key</th>\n",
       "      <th></th>\n",
       "      <th></th>\n",
       "      <th></th>\n",
       "      <th></th>\n",
       "      <th></th>\n",
       "    </tr>\n",
       "  </thead>\n",
       "  <tbody>\n",
       "    <tr>\n",
       "      <th>matrices/32,1-col_rots_32,1-col_rots-32,1</th>\n",
       "      <td>0.173624</td>\n",
       "      <td>0.145483</td>\n",
       "      <td>1.193431</td>\n",
       "      <td>0.059901</td>\n",
       "      <td>2.898540</td>\n",
       "    </tr>\n",
       "    <tr>\n",
       "      <th>matrices/32,1-col_rots_no_group_32,1-col_rots_no_group-32,1</th>\n",
       "      <td>0.139934</td>\n",
       "      <td>0.105436</td>\n",
       "      <td>1.327190</td>\n",
       "      <td>0.042123</td>\n",
       "      <td>3.322043</td>\n",
       "    </tr>\n",
       "    <tr>\n",
       "      <th>matrices/32,1-row_rots_32,1-col_rots-32,1</th>\n",
       "      <td>0.015398</td>\n",
       "      <td>0.045018</td>\n",
       "      <td>0.342048</td>\n",
       "      <td>0.016537</td>\n",
       "      <td>0.931154</td>\n",
       "    </tr>\n",
       "    <tr>\n",
       "      <th>matrices/32,1-row_rots_no_group_32,1-col_rots_no_group-32,1</th>\n",
       "      <td>0.015117</td>\n",
       "      <td>0.032332</td>\n",
       "      <td>0.467560</td>\n",
       "      <td>0.015371</td>\n",
       "      <td>0.983498</td>\n",
       "    </tr>\n",
       "    <tr>\n",
       "      <th>matrices/32,2-col_rots_32,2-col_xforms-32,2</th>\n",
       "      <td>2.490377</td>\n",
       "      <td>2.714008</td>\n",
       "      <td>0.917601</td>\n",
       "      <td>0.990679</td>\n",
       "      <td>2.513810</td>\n",
       "    </tr>\n",
       "  </tbody>\n",
       "</table>\n",
       "</div>"
      ],
      "text/plain": [
       "                                                    Single thread time  \\\n",
       "key                                                                      \n",
       "matrices/32,1-col_rots_32,1-col_rots-32,1                     0.173624   \n",
       "matrices/32,1-col_rots_no_group_32,1-col_rots_n...            0.139934   \n",
       "matrices/32,1-row_rots_32,1-col_rots-32,1                     0.015398   \n",
       "matrices/32,1-row_rots_no_group_32,1-col_rots_n...            0.015117   \n",
       "matrices/32,2-col_rots_32,2-col_xforms-32,2                   2.490377   \n",
       "\n",
       "                                                    Parallel row time  \\\n",
       "key                                                                     \n",
       "matrices/32,1-col_rots_32,1-col_rots-32,1                    0.145483   \n",
       "matrices/32,1-col_rots_no_group_32,1-col_rots_n...           0.105436   \n",
       "matrices/32,1-row_rots_32,1-col_rots-32,1                    0.045018   \n",
       "matrices/32,1-row_rots_no_group_32,1-col_rots_n...           0.032332   \n",
       "matrices/32,2-col_rots_32,2-col_xforms-32,2                  2.714008   \n",
       "\n",
       "                                                     Speedup  \\\n",
       "key                                                            \n",
       "matrices/32,1-col_rots_32,1-col_rots-32,1           1.193431   \n",
       "matrices/32,1-col_rots_no_group_32,1-col_rots_n...  1.327190   \n",
       "matrices/32,1-row_rots_32,1-col_rots-32,1           0.342048   \n",
       "matrices/32,1-row_rots_no_group_32,1-col_rots_n...  0.467560   \n",
       "matrices/32,2-col_rots_32,2-col_xforms-32,2         0.917601   \n",
       "\n",
       "                                                    Tiled rows time (size=32)  \\\n",
       "key                                                                             \n",
       "matrices/32,1-col_rots_32,1-col_rots-32,1                            0.059901   \n",
       "matrices/32,1-col_rots_no_group_32,1-col_rots_n...                   0.042123   \n",
       "matrices/32,1-row_rots_32,1-col_rots-32,1                            0.016537   \n",
       "matrices/32,1-row_rots_no_group_32,1-col_rots_n...                   0.015371   \n",
       "matrices/32,2-col_rots_32,2-col_xforms-32,2                          0.990679   \n",
       "\n",
       "                                                    Speedup (tiled)  \n",
       "key                                                                  \n",
       "matrices/32,1-col_rots_32,1-col_rots-32,1                  2.898540  \n",
       "matrices/32,1-col_rots_no_group_32,1-col_rots_n...         3.322043  \n",
       "matrices/32,1-row_rots_32,1-col_rots-32,1                  0.931154  \n",
       "matrices/32,1-row_rots_no_group_32,1-col_rots_n...         0.983498  \n",
       "matrices/32,2-col_rots_32,2-col_xforms-32,2                2.513810  "
      ]
     },
     "execution_count": 24,
     "metadata": {},
     "output_type": "execute_result"
    }
   ],
   "source": [
    "time_table[rows_tiled_time.name] = rows_tiled_time\n",
    "time_table[speedup_tiled.name] = speedup_tiled\n",
    "time_table.head()"
   ]
  },
  {
   "cell_type": "code",
   "execution_count": 25,
   "metadata": {},
   "outputs": [],
   "source": [
    "time_table.to_csv(\"../results/2020-05-14-tiled-rows-times.csv\")"
   ]
  },
  {
   "cell_type": "code",
   "execution_count": null,
   "metadata": {},
   "outputs": [],
   "source": []
  }
 ],
 "metadata": {
  "kernelspec": {
   "display_name": "Python 3",
   "language": "python",
   "name": "python3"
  },
  "language_info": {
   "codemirror_mode": {
    "name": "ipython",
    "version": 3
   },
   "file_extension": ".py",
   "mimetype": "text/x-python",
   "name": "python",
   "nbconvert_exporter": "python",
   "pygments_lexer": "ipython3",
   "version": "3.8.2"
  }
 },
 "nbformat": 4,
 "nbformat_minor": 4
}

{
 "cells": [
  {
   "cell_type": "markdown",
   "metadata": {},
   "source": [
    "The experiment consisted of running the non-large (excluding Trove with s=5 and 2D stencil with k=5) matrix multiplication (the single thread algorithm) and to parallelize the computation of each row of the output (the row parallelism case).\n",
    "\n",
    "Code-wise, this was effectively putting some mutexes in and replacing a for loop with a parallel iterator."
   ]
  },
  {
   "cell_type": "code",
   "execution_count": 1,
   "metadata": {},
   "outputs": [],
   "source": [
    "# initial setup\n",
    "import sys\n",
    "sys.path.append(\"../analysis\")"
   ]
  },
  {
   "cell_type": "code",
   "execution_count": 2,
   "metadata": {},
   "outputs": [],
   "source": [
    "import parsing\n",
    "import extraction\n",
    "import timing\n",
    "import utils\n",
    "\n",
    "from extraction import pull_spec_in\n",
    "from utils import fetch"
   ]
  },
  {
   "cell_type": "code",
   "execution_count": 3,
   "metadata": {},
   "outputs": [],
   "source": [
    "import numpy as np\n",
    "import matplotlib.pyplot as plt\n",
    "import pandas as pd"
   ]
  },
  {
   "cell_type": "code",
   "execution_count": 4,
   "metadata": {},
   "outputs": [],
   "source": [
    "%matplotlib inline"
   ]
  },
  {
   "cell_type": "code",
   "execution_count": 5,
   "metadata": {},
   "outputs": [],
   "source": [
    "single_thread_raw = fetch(\"2020-05-13-single-thread-multiplies\")\n",
    "parallel_row_raw = fetch(\"2020-05-13-parallel-row-multiplies\")"
   ]
  },
  {
   "cell_type": "code",
   "execution_count": 6,
   "metadata": {},
   "outputs": [],
   "source": [
    "single_thread_all_data = pull_spec_in(extraction.matrix_stats(single_thread_raw))\n",
    "parallel_row_all_data = pull_spec_in(extraction.matrix_stats(parallel_row_raw))\n",
    "\n",
    "single_thread_times = single_thread_all_data[\n",
    "    single_thread_all_data['category'] == 'mul']\\\n",
    "    .set_index('key')[[\"spec\", \"time\"]]\n",
    "parallel_row_times = parallel_row_all_data[\n",
    "    parallel_row_all_data['category'] == 'mul']\\\n",
    "    .set_index('key')[[\"spec\", \"time\"]]"
   ]
  },
  {
   "cell_type": "code",
   "execution_count": 7,
   "metadata": {},
   "outputs": [],
   "source": [
    "parallel_row_time = parallel_row_times['time'].copy()\n",
    "parallel_row_time.name = \"Parallel row time\"\n",
    "single_thread_time = single_thread_times['time'].copy()\n",
    "single_thread_time.name = \"Single_thread time\""
   ]
  },
  {
   "cell_type": "code",
   "execution_count": 8,
   "metadata": {},
   "outputs": [
    {
     "data": {
      "text/html": [
       "<div>\n",
       "<style scoped>\n",
       "    .dataframe tbody tr th:only-of-type {\n",
       "        vertical-align: middle;\n",
       "    }\n",
       "\n",
       "    .dataframe tbody tr th {\n",
       "        vertical-align: top;\n",
       "    }\n",
       "\n",
       "    .dataframe thead th {\n",
       "        text-align: right;\n",
       "    }\n",
       "</style>\n",
       "<table border=\"1\" class=\"dataframe\">\n",
       "  <thead>\n",
       "    <tr style=\"text-align: right;\">\n",
       "      <th></th>\n",
       "      <th>Single_thread time</th>\n",
       "      <th>Parallel row time</th>\n",
       "    </tr>\n",
       "    <tr>\n",
       "      <th>key</th>\n",
       "      <th></th>\n",
       "      <th></th>\n",
       "    </tr>\n",
       "  </thead>\n",
       "  <tbody>\n",
       "    <tr>\n",
       "      <th>matrices/32-cond_keep_32,3-col_rots_no_group-32,3</th>\n",
       "      <td>0.558105</td>\n",
       "      <td>0.660212</td>\n",
       "    </tr>\n",
       "    <tr>\n",
       "      <th>matrices/32-cond_keep_32,3-col_rots_no_group_32,3-col_xforms_no_group-32,3</th>\n",
       "      <td>2.884433</td>\n",
       "      <td>7.081888</td>\n",
       "    </tr>\n",
       "    <tr>\n",
       "      <th>matrices/4,4-identity_4,4,3,3-2s-rnc{main[1]out[1]second[3]}-4,4,3,3</th>\n",
       "      <td>2.525692</td>\n",
       "      <td>2.934755</td>\n",
       "    </tr>\n",
       "    <tr>\n",
       "      <th>matrices/4,4-identity_4,4,3,3-2s-rnc{main[1]out[1]second[3]}_4,4,3,3-2s-xfnc{main[1]out[1]second[3]}-4,4,3,3</th>\n",
       "      <td>7.446618</td>\n",
       "      <td>6.496716</td>\n",
       "    </tr>\n",
       "    <tr>\n",
       "      <th>matrices/4,4-identity_4,4,3,3-2s-rnc{main[1]out[1]second[3]}_4,4,3,3-2s-xfnc{main[1]out[1]second[3]}_4,4,3,3-2s-rnc{main[0]out[0]second[2]}-4,4,3,3</th>\n",
       "      <td>3.435772</td>\n",
       "      <td>5.590158</td>\n",
       "    </tr>\n",
       "    <tr>\n",
       "      <th>...</th>\n",
       "      <td>...</td>\n",
       "      <td>...</td>\n",
       "    </tr>\n",
       "    <tr>\n",
       "      <th>matrices/32-col_rots_no_group_32,5-col_xforms_no_group_32,5-row_rots_no_group-32,5</th>\n",
       "      <td>6.053254</td>\n",
       "      <td>15.749043</td>\n",
       "    </tr>\n",
       "    <tr>\n",
       "      <th>matrices/32,2-row_rots_no_group_32,2-row_xforms_no_group-32,2</th>\n",
       "      <td>0.302326</td>\n",
       "      <td>0.296427</td>\n",
       "    </tr>\n",
       "    <tr>\n",
       "      <th>matrices/32,2-row_rots_no_group_32,2-row_xforms_no_group_32,2-col_rots_no_group-32,2</th>\n",
       "      <td>0.435595</td>\n",
       "      <td>0.413458</td>\n",
       "    </tr>\n",
       "    <tr>\n",
       "      <th>matrices/32,2-row_rots_no_group_32,2-row_xforms_no_group_32,2-col_rots_no_group_32,2-col_xforms_no_group-32,2</th>\n",
       "      <td>2.881113</td>\n",
       "      <td>11.690962</td>\n",
       "    </tr>\n",
       "    <tr>\n",
       "      <th>matrices/32,2-row_rots_no_group_32,2-row_xforms_no_group_32,2-col_rots_no_group_32,2-col_xforms_no_group_32,2-row_rots_no_group-32,2</th>\n",
       "      <td>0.445992</td>\n",
       "      <td>10.486481</td>\n",
       "    </tr>\n",
       "  </tbody>\n",
       "</table>\n",
       "<p>95 rows × 2 columns</p>\n",
       "</div>"
      ],
      "text/plain": [
       "                                                    Single_thread time  \\\n",
       "key                                                                      \n",
       "matrices/32-cond_keep_32,3-col_rots_no_group-32,3             0.558105   \n",
       "matrices/32-cond_keep_32,3-col_rots_no_group_32...            2.884433   \n",
       "matrices/4,4-identity_4,4,3,3-2s-rnc{main[1]out...            2.525692   \n",
       "matrices/4,4-identity_4,4,3,3-2s-rnc{main[1]out...            7.446618   \n",
       "matrices/4,4-identity_4,4,3,3-2s-rnc{main[1]out...            3.435772   \n",
       "...                                                                ...   \n",
       "matrices/32-col_rots_no_group_32,5-col_xforms_n...            6.053254   \n",
       "matrices/32,2-row_rots_no_group_32,2-row_xforms...            0.302326   \n",
       "matrices/32,2-row_rots_no_group_32,2-row_xforms...            0.435595   \n",
       "matrices/32,2-row_rots_no_group_32,2-row_xforms...            2.881113   \n",
       "matrices/32,2-row_rots_no_group_32,2-row_xforms...            0.445992   \n",
       "\n",
       "                                                    Parallel row time  \n",
       "key                                                                    \n",
       "matrices/32-cond_keep_32,3-col_rots_no_group-32,3            0.660212  \n",
       "matrices/32-cond_keep_32,3-col_rots_no_group_32...           7.081888  \n",
       "matrices/4,4-identity_4,4,3,3-2s-rnc{main[1]out...           2.934755  \n",
       "matrices/4,4-identity_4,4,3,3-2s-rnc{main[1]out...           6.496716  \n",
       "matrices/4,4-identity_4,4,3,3-2s-rnc{main[1]out...           5.590158  \n",
       "...                                                               ...  \n",
       "matrices/32-col_rots_no_group_32,5-col_xforms_n...          15.749043  \n",
       "matrices/32,2-row_rots_no_group_32,2-row_xforms...           0.296427  \n",
       "matrices/32,2-row_rots_no_group_32,2-row_xforms...           0.413458  \n",
       "matrices/32,2-row_rots_no_group_32,2-row_xforms...          11.690962  \n",
       "matrices/32,2-row_rots_no_group_32,2-row_xforms...          10.486481  \n",
       "\n",
       "[95 rows x 2 columns]"
      ]
     },
     "execution_count": 8,
     "metadata": {},
     "output_type": "execute_result"
    }
   ],
   "source": [
    "time_table = pd.concat([single_thread_time, parallel_row_time], axis=1)\n",
    "time_table"
   ]
  },
  {
   "cell_type": "code",
   "execution_count": 9,
   "metadata": {},
   "outputs": [
    {
     "data": {
      "text/plain": [
       "key\n",
       "matrices/32-cond_keep_32,3-col_rots_no_group-32,3                                                                                                      0.845342\n",
       "matrices/32-cond_keep_32,3-col_rots_no_group_32,3-col_xforms_no_group-32,3                                                                             0.407297\n",
       "matrices/4,4-identity_4,4,3,3-2s-rnc{main[1]out[1]second[3]}-4,4,3,3                                                                                   0.860614\n",
       "matrices/4,4-identity_4,4,3,3-2s-rnc{main[1]out[1]second[3]}_4,4,3,3-2s-xfnc{main[1]out[1]second[3]}-4,4,3,3                                           1.146213\n",
       "matrices/4,4-identity_4,4,3,3-2s-rnc{main[1]out[1]second[3]}_4,4,3,3-2s-xfnc{main[1]out[1]second[3]}_4,4,3,3-2s-rnc{main[0]out[0]second[2]}-4,4,3,3    0.614611\n",
       "                                                                                                                                                         ...   \n",
       "matrices/32-col_rots_no_group_32,5-col_xforms_no_group_32,5-row_rots_no_group-32,5                                                                     0.384357\n",
       "matrices/32,2-row_rots_no_group_32,2-row_xforms_no_group-32,2                                                                                          1.019903\n",
       "matrices/32,2-row_rots_no_group_32,2-row_xforms_no_group_32,2-col_rots_no_group-32,2                                                                   1.053542\n",
       "matrices/32,2-row_rots_no_group_32,2-row_xforms_no_group_32,2-col_rots_no_group_32,2-col_xforms_no_group-32,2                                          0.246439\n",
       "matrices/32,2-row_rots_no_group_32,2-row_xforms_no_group_32,2-col_rots_no_group_32,2-col_xforms_no_group_32,2-row_rots_no_group-32,2                   0.042530\n",
       "Name: Speedup, Length: 95, dtype: float64"
      ]
     },
     "execution_count": 9,
     "metadata": {},
     "output_type": "execute_result"
    }
   ],
   "source": [
    "speedup = single_thread_time / parallel_row_time\n",
    "speedup.name = \"Speedup\"\n",
    "speedup"
   ]
  },
  {
   "cell_type": "code",
   "execution_count": 10,
   "metadata": {},
   "outputs": [
    {
     "data": {
      "text/plain": [
       "0.5572549309013302"
      ]
     },
     "execution_count": 10,
     "metadata": {},
     "output_type": "execute_result"
    }
   ],
   "source": [
    "speedup.mean()"
   ]
  },
  {
   "cell_type": "markdown",
   "metadata": {},
   "source": [
    "Interestingly, we can see that (unless I screwed up the experiments somehow), this parallelization strategy actually makes the multiplication *slower* on average."
   ]
  },
  {
   "cell_type": "code",
   "execution_count": 11,
   "metadata": {},
   "outputs": [
    {
     "data": {
      "image/png": "[encoded data removed]",
      "text/plain": [
       "<Figure size 432x288 with 1 Axes>"
      ]
     },
     "metadata": {
      "needs_background": "light"
     },
     "output_type": "display_data"
    }
   ],
   "source": [
    "ax = (speedup.reset_index()['Speedup'] - 1)\\\n",
    ".plot(kind='bar', use_index=False)\n",
    "ax.set_ylabel(\"Speedup (minus 1)\")\n",
    "ax.set_xticks([])\n",
    "ax.set_title(\"Speedups from parallelism\")\n",
    "None"
   ]
  },
  {
   "cell_type": "markdown",
   "metadata": {},
   "source": [
    "My initial thought on the problem here is that this parallelism strategy (computing the rows in parallel, with work-stealing) just increases the memory bottlenecks in this algorith (which already involves a lot of random memory access). Hyperthreading (if it's getting involved) might not be helping here.\n",
    "\n",
    "It's also possible that the overhead of spawning threads isn't worth it in most cases, maybe because each individual row is so fast to compute.\n",
    "\n",
    "More experiments are needed to find a parallelization strategy that works.\n",
    "\n",
    "Initial thoughts include:\n",
    "* Batches of rows as one work unit\n",
    "* Parallelizing the part of the algorithm that scans through the matrix for an intersection after the vector of 1s in a row of $a$ has been computed\n",
    "* Searching for or devising algorithms that allow for tiling (there's  a Four Russians' algorithm that might parallelize better)"
   ]
  },
  {
   "cell_type": "code",
   "execution_count": 12,
   "metadata": {},
   "outputs": [],
   "source": [
    "time_table['Speedup'] = speedup"
   ]
  },
  {
   "cell_type": "code",
   "execution_count": 13,
   "metadata": {},
   "outputs": [],
   "source": [
    "time_table.to_csv('../results/2020-05-13-row-parallelism-times.csv')"
   ]
  },
  {
   "cell_type": "code",
   "execution_count": null,
   "metadata": {},
   "outputs": [],
   "source": []
  }
 ],
 "metadata": {
  "kernelspec": {
   "display_name": "Python 3",
   "language": "python",
   "name": "python3"
  },
  "language_info": {
   "codemirror_mode": {
    "name": "ipython",
    "version": 3
   },
   "file_extension": ".py",
   "mimetype": "text/x-python",
   "name": "python",
   "nbconvert_exporter": "python",
   "pygments_lexer": "ipython3",
   "version": "3.8.2"
  }
 },
 "nbformat": 4,
 "nbformat_minor": 4
}

{
 "cells": [
  {
   "cell_type": "code",
   "execution_count": 1,
   "metadata": {},
   "outputs": [],
   "source": [
    "# initial setup\n",
    "import sys\n",
    "sys.path.append(\"../analysis\")"
   ]
  },
  {
   "cell_type": "code",
   "execution_count": 2,
   "metadata": {},
   "outputs": [],
   "source": [
    "import parsing\n",
    "import extraction\n",
    "import timing\n",
    "import utils"
   ]
  },
  {
   "cell_type": "code",
   "execution_count": 3,
   "metadata": {},
   "outputs": [],
   "source": [
    "from extraction import pull_spec_in, split_spec\n",
    "from utils import fetch"
   ]
  },
  {
   "cell_type": "code",
   "execution_count": 4,
   "metadata": {},
   "outputs": [],
   "source": [
    "import numpy as np\n",
    "import pandas as pd\n",
    "import matplotlib.pyplot as plt"
   ]
  },
  {
   "cell_type": "code",
   "execution_count": 5,
   "metadata": {},
   "outputs": [],
   "source": [
    "%matplotlib inline"
   ]
  },
  {
   "cell_type": "code",
   "execution_count": 6,
   "metadata": {},
   "outputs": [],
   "source": [
    "multiplies_raw = fetch(\"2020-04-30-all-experiments-timings-for-further-eval\")\n",
    "loads_raw = fetch(\"2020-04-30-all-experiments-timings-for-further-eval-loads-only\")\n",
    "stats_raw = fetch(\"2020-04-30-all-experiments-timings-for-further-eval-stats\")\n",
    "swinv_times = utils.fetch_swizzle_inventor(\n",
    "    \"2020-05-04-swizzle-inventor-benchmarks-fixed-script\")"
   ]
  },
  {
   "cell_type": "code",
   "execution_count": 7,
   "metadata": {},
   "outputs": [
    {
     "data": {
      "text/html": [
       "<div>\n",
       "<style scoped>\n",
       "    .dataframe tbody tr th:only-of-type {\n",
       "        vertical-align: middle;\n",
       "    }\n",
       "\n",
       "    .dataframe tbody tr th {\n",
       "        vertical-align: top;\n",
       "    }\n",
       "\n",
       "    .dataframe thead th {\n",
       "        text-align: right;\n",
       "    }\n",
       "</style>\n",
       "<table border=\"1\" class=\"dataframe\">\n",
       "  <thead>\n",
       "    <tr style=\"text-align: right;\">\n",
       "      <th></th>\n",
       "      <th>spec</th>\n",
       "      <th>time</th>\n",
       "    </tr>\n",
       "  </thead>\n",
       "  <tbody>\n",
       "    <tr>\n",
       "      <th>0</th>\n",
       "      <td>l1/1d-conv</td>\n",
       "      <td>9.073</td>\n",
       "    </tr>\n",
       "    <tr>\n",
       "      <th>1</th>\n",
       "      <td>l1/1d-stencil</td>\n",
       "      <td>6.753</td>\n",
       "    </tr>\n",
       "    <tr>\n",
       "      <th>2</th>\n",
       "      <td>l1/2d-stencil-3</td>\n",
       "      <td>21.160</td>\n",
       "    </tr>\n",
       "    <tr>\n",
       "      <th>3</th>\n",
       "      <td>l1/2d-stencil-5</td>\n",
       "      <td>65.945</td>\n",
       "    </tr>\n",
       "    <tr>\n",
       "      <th>4</th>\n",
       "      <td>l1/trove-crc-1</td>\n",
       "      <td>0.123</td>\n",
       "    </tr>\n",
       "    <tr>\n",
       "      <th>5</th>\n",
       "      <td>l1/trove-crc-2</td>\n",
       "      <td>0.342</td>\n",
       "    </tr>\n",
       "    <tr>\n",
       "      <th>6</th>\n",
       "      <td>l1/trove-crc-3</td>\n",
       "      <td>1.078</td>\n",
       "    </tr>\n",
       "    <tr>\n",
       "      <th>7</th>\n",
       "      <td>l1/trove-crc-4</td>\n",
       "      <td>0.782</td>\n",
       "    </tr>\n",
       "    <tr>\n",
       "      <th>8</th>\n",
       "      <td>l1/trove-crc-5</td>\n",
       "      <td>2.138</td>\n",
       "    </tr>\n",
       "    <tr>\n",
       "      <th>9</th>\n",
       "      <td>l1/trove-crc-7</td>\n",
       "      <td>11.062</td>\n",
       "    </tr>\n",
       "    <tr>\n",
       "      <th>10</th>\n",
       "      <td>l1/trove-rcr-1</td>\n",
       "      <td>0.314</td>\n",
       "    </tr>\n",
       "    <tr>\n",
       "      <th>11</th>\n",
       "      <td>l1/trove-rcr-2</td>\n",
       "      <td>1.935</td>\n",
       "    </tr>\n",
       "    <tr>\n",
       "      <th>12</th>\n",
       "      <td>l1/trove-rcr-3</td>\n",
       "      <td>5.715</td>\n",
       "    </tr>\n",
       "    <tr>\n",
       "      <th>13</th>\n",
       "      <td>l1/trove-rcr-4</td>\n",
       "      <td>6.210</td>\n",
       "    </tr>\n",
       "    <tr>\n",
       "      <th>14</th>\n",
       "      <td>l1/trove-rcr-5</td>\n",
       "      <td>10.757</td>\n",
       "    </tr>\n",
       "    <tr>\n",
       "      <th>15</th>\n",
       "      <td>l1/trove-rcr-7</td>\n",
       "      <td>20.087</td>\n",
       "    </tr>\n",
       "    <tr>\n",
       "      <th>16</th>\n",
       "      <td>l2/1d-conv</td>\n",
       "      <td>10.751</td>\n",
       "    </tr>\n",
       "    <tr>\n",
       "      <th>17</th>\n",
       "      <td>l2/1d-stencil</td>\n",
       "      <td>11.641</td>\n",
       "    </tr>\n",
       "    <tr>\n",
       "      <th>18</th>\n",
       "      <td>l2/2d-stencil-3</td>\n",
       "      <td>45.934</td>\n",
       "    </tr>\n",
       "    <tr>\n",
       "      <th>19</th>\n",
       "      <td>l2/2d-stencil-5</td>\n",
       "      <td>138.076</td>\n",
       "    </tr>\n",
       "    <tr>\n",
       "      <th>20</th>\n",
       "      <td>l3/1d-conv</td>\n",
       "      <td>22.879</td>\n",
       "    </tr>\n",
       "    <tr>\n",
       "      <th>21</th>\n",
       "      <td>l3/1d-stencil</td>\n",
       "      <td>15.864</td>\n",
       "    </tr>\n",
       "    <tr>\n",
       "      <th>22</th>\n",
       "      <td>l3/2d-stencil-3</td>\n",
       "      <td>51.497</td>\n",
       "    </tr>\n",
       "    <tr>\n",
       "      <th>23</th>\n",
       "      <td>l3/2d-stencil-5</td>\n",
       "      <td>577.110</td>\n",
       "    </tr>\n",
       "    <tr>\n",
       "      <th>24</th>\n",
       "      <td>l3/trove-crc-1</td>\n",
       "      <td>3.974</td>\n",
       "    </tr>\n",
       "    <tr>\n",
       "      <th>25</th>\n",
       "      <td>l3/trove-crc-2</td>\n",
       "      <td>8.742</td>\n",
       "    </tr>\n",
       "    <tr>\n",
       "      <th>26</th>\n",
       "      <td>l3/trove-crc-3</td>\n",
       "      <td>17.039</td>\n",
       "    </tr>\n",
       "    <tr>\n",
       "      <th>27</th>\n",
       "      <td>l3/trove-crc-4</td>\n",
       "      <td>20.663</td>\n",
       "    </tr>\n",
       "    <tr>\n",
       "      <th>28</th>\n",
       "      <td>l3/trove-crc-5</td>\n",
       "      <td>120.180</td>\n",
       "    </tr>\n",
       "    <tr>\n",
       "      <th>29</th>\n",
       "      <td>l3/trove-crc-7</td>\n",
       "      <td>143.733</td>\n",
       "    </tr>\n",
       "    <tr>\n",
       "      <th>30</th>\n",
       "      <td>l3/trove-rcr-1</td>\n",
       "      <td>9.618</td>\n",
       "    </tr>\n",
       "    <tr>\n",
       "      <th>31</th>\n",
       "      <td>l3/trove-rcr-2</td>\n",
       "      <td>1540.175</td>\n",
       "    </tr>\n",
       "  </tbody>\n",
       "</table>\n",
       "</div>"
      ],
      "text/plain": [
       "               spec      time\n",
       "0        l1/1d-conv     9.073\n",
       "1     l1/1d-stencil     6.753\n",
       "2   l1/2d-stencil-3    21.160\n",
       "3   l1/2d-stencil-5    65.945\n",
       "4    l1/trove-crc-1     0.123\n",
       "5    l1/trove-crc-2     0.342\n",
       "6    l1/trove-crc-3     1.078\n",
       "7    l1/trove-crc-4     0.782\n",
       "8    l1/trove-crc-5     2.138\n",
       "9    l1/trove-crc-7    11.062\n",
       "10   l1/trove-rcr-1     0.314\n",
       "11   l1/trove-rcr-2     1.935\n",
       "12   l1/trove-rcr-3     5.715\n",
       "13   l1/trove-rcr-4     6.210\n",
       "14   l1/trove-rcr-5    10.757\n",
       "15   l1/trove-rcr-7    20.087\n",
       "16       l2/1d-conv    10.751\n",
       "17    l2/1d-stencil    11.641\n",
       "18  l2/2d-stencil-3    45.934\n",
       "19  l2/2d-stencil-5   138.076\n",
       "20       l3/1d-conv    22.879\n",
       "21    l3/1d-stencil    15.864\n",
       "22  l3/2d-stencil-3    51.497\n",
       "23  l3/2d-stencil-5   577.110\n",
       "24   l3/trove-crc-1     3.974\n",
       "25   l3/trove-crc-2     8.742\n",
       "26   l3/trove-crc-3    17.039\n",
       "27   l3/trove-crc-4    20.663\n",
       "28   l3/trove-crc-5   120.180\n",
       "29   l3/trove-crc-7   143.733\n",
       "30   l3/trove-rcr-1     9.618\n",
       "31   l3/trove-rcr-2  1540.175"
      ]
     },
     "execution_count": 7,
     "metadata": {},
     "output_type": "execute_result"
    }
   ],
   "source": [
    "swinv_times"
   ]
  },
  {
   "cell_type": "markdown",
   "metadata": {},
   "source": [
    "Having loaded the data, I'll make a more expanded breakdown of the time it takes to execute Swizzleflow on various benchmarks.\n",
    "\n",
    "I'll take the time it took to build and multiply all the matrices from the benchmark suite that ran with an empty cache, the time it took to load the cached aatrix from my rerun (which had a fully populated matrix cache), and then one of the search times.\n",
    "\n",
    "We'll also add in the Swizzle Inventor times."
   ]
  },
  {
   "cell_type": "code",
   "execution_count": 8,
   "metadata": {},
   "outputs": [],
   "source": [
    "multiply_times = timing.process(multiplies_raw)\n",
    "load_only_times = timing.process(loads_raw)"
   ]
  },
  {
   "cell_type": "markdown",
   "metadata": {},
   "source": [
    "Before we continue, let's make sure that the two search runs weren't significantly different so we can feel comfortable picking either one"
   ]
  },
  {
   "cell_type": "code",
   "execution_count": 9,
   "metadata": {},
   "outputs": [
    {
     "data": {
      "text/plain": [
       "spec\n",
       "l3/trove-rcr-5    -0.000100\n",
       "l3/trove-crc-5     0.000092\n",
       "l3/2d-stencil-5    0.001524\n",
       "l1/trove-rcr-5     0.001773\n",
       "l1/trove-crc-5     0.005072\n",
       "Name: search time, dtype: float64"
      ]
     },
     "execution_count": 9,
     "metadata": {},
     "output_type": "execute_result"
    }
   ],
   "source": [
    "search_variations = multiply_times['search time'] - load_only_times['search time']\n",
    "search_variations.head()"
   ]
  },
  {
   "cell_type": "code",
   "execution_count": 10,
   "metadata": {},
   "outputs": [
    {
     "data": {
      "text/plain": [
       "-0.0008868292888888906"
      ]
     },
     "execution_count": 10,
     "metadata": {},
     "output_type": "execute_result"
    }
   ],
   "source": [
    "search_variations.mean()"
   ]
  },
  {
   "cell_type": "code",
   "execution_count": 11,
   "metadata": {},
   "outputs": [
    {
     "data": {
      "text/plain": [
       "0.009914124536938228"
      ]
     },
     "execution_count": 11,
     "metadata": {},
     "output_type": "execute_result"
    }
   ],
   "source": [
    "search_variations.std()"
   ]
  },
  {
   "cell_type": "code",
   "execution_count": 12,
   "metadata": {},
   "outputs": [
    {
     "data": {
      "text/plain": [
       "9.689211229190912e-05"
      ]
     },
     "execution_count": 12,
     "metadata": {},
     "output_type": "execute_result"
    }
   ],
   "source": [
    "(search_variations ** 2).sum() / len(search_variations)"
   ]
  },
  {
   "cell_type": "markdown",
   "metadata": {},
   "source": [
    "With that bit of preemptive analysis done, I can conclude that there weren't any meaningful random fluctuations in the data between our two Swizzleflow benchmark runs that didn't collect detailed statistics."
   ]
  },
  {
   "cell_type": "code",
   "execution_count": 13,
   "metadata": {},
   "outputs": [],
   "source": [
    "swinv_times_for_join = swinv_times.set_index('spec')\\\n",
    "    .rename({'time': 'swizzle inventor'}, axis=1)\n",
    "for p in ['l3/trove-rcr-3', 'l3/trove-rcr-5']:\n",
    "    swinv_times_for_join.loc[p] = [np.nan]"
   ]
  },
  {
   "cell_type": "code",
   "execution_count": 14,
   "metadata": {},
   "outputs": [
    {
     "data": {
      "text/html": [
       "<div>\n",
       "<style scoped>\n",
       "    .dataframe tbody tr th:only-of-type {\n",
       "        vertical-align: middle;\n",
       "    }\n",
       "\n",
       "    .dataframe tbody tr th {\n",
       "        vertical-align: top;\n",
       "    }\n",
       "\n",
       "    .dataframe thead th {\n",
       "        text-align: right;\n",
       "    }\n",
       "</style>\n",
       "<table border=\"1\" class=\"dataframe\">\n",
       "  <thead>\n",
       "    <tr style=\"text-align: right;\">\n",
       "      <th></th>\n",
       "      <th>matrix time</th>\n",
       "      <th>load time</th>\n",
       "      <th>search time</th>\n",
       "      <th>swizzle inventor</th>\n",
       "    </tr>\n",
       "    <tr>\n",
       "      <th>spec</th>\n",
       "      <th></th>\n",
       "      <th></th>\n",
       "      <th></th>\n",
       "      <th></th>\n",
       "    </tr>\n",
       "  </thead>\n",
       "  <tbody>\n",
       "    <tr>\n",
       "      <th>l1/1d-conv</th>\n",
       "      <td>0.018468</td>\n",
       "      <td>0.018549</td>\n",
       "      <td>0.013639</td>\n",
       "      <td>9.073</td>\n",
       "    </tr>\n",
       "    <tr>\n",
       "      <th>l1/1d-stencil</th>\n",
       "      <td>3.335432</td>\n",
       "      <td>0.018640</td>\n",
       "      <td>0.006689</td>\n",
       "      <td>6.753</td>\n",
       "    </tr>\n",
       "    <tr>\n",
       "      <th>l1/2d-stencil-3</th>\n",
       "      <td>1.539753</td>\n",
       "      <td>0.019292</td>\n",
       "      <td>0.004844</td>\n",
       "      <td>21.160</td>\n",
       "    </tr>\n",
       "    <tr>\n",
       "      <th>l1/2d-stencil-5</th>\n",
       "      <td>1897.150403</td>\n",
       "      <td>0.173086</td>\n",
       "      <td>0.055123</td>\n",
       "      <td>65.945</td>\n",
       "    </tr>\n",
       "    <tr>\n",
       "      <th>l1/trove-crc-1</th>\n",
       "      <td>0.021668</td>\n",
       "      <td>0.001503</td>\n",
       "      <td>0.000322</td>\n",
       "      <td>0.123</td>\n",
       "    </tr>\n",
       "  </tbody>\n",
       "</table>\n",
       "</div>"
      ],
      "text/plain": [
       "                 matrix time  load time  search time  swizzle inventor\n",
       "spec                                                                  \n",
       "l1/1d-conv          0.018468   0.018549     0.013639             9.073\n",
       "l1/1d-stencil       3.335432   0.018640     0.006689             6.753\n",
       "l1/2d-stencil-3     1.539753   0.019292     0.004844            21.160\n",
       "l1/2d-stencil-5  1897.150403   0.173086     0.055123            65.945\n",
       "l1/trove-crc-1      0.021668   0.001503     0.000322             0.123"
      ]
     },
     "execution_count": 14,
     "metadata": {},
     "output_type": "execute_result"
    }
   ],
   "source": [
    "timings =\\\n",
    "(load_only_times.rename({\"matrix time\": \"load time\"}, axis=1)\\\n",
    "    .join(multiply_times, how='inner',\n",
    "         rsuffix=\" r\")[[\"matrix time\", \"load time\", \"search time\"]])\\\n",
    "    .join(swinv_times_for_join, how=\"inner\", sort=True)\n",
    "timings.head()"
   ]
  },
  {
   "cell_type": "code",
   "execution_count": 15,
   "metadata": {},
   "outputs": [],
   "source": [
    "timings = extraction.split_spec(timings.reset_index()).drop('spec', axis=1)"
   ]
  },
  {
   "cell_type": "code",
   "execution_count": 16,
   "metadata": {},
   "outputs": [],
   "source": [
    "for_plot = timings.copy()\n",
    "for_plot['problem'] = for_plot['problem'].map(utils.PROBLEM_NAMES)\n",
    "for_plot['level'] = for_plot['level'].map({1: 'R', 2: 'FC', 3: 'F'})"
   ]
  },
  {
   "cell_type": "code",
   "execution_count": 17,
   "metadata": {},
   "outputs": [],
   "source": [
    "for_plot.rename({'problem': 'Problem', 'matrix time': 'Mat. creation',\n",
    "                'load time': 'Mat. load', 'search time': 'Search',\n",
    "                'swizzle inventor': 'Swizzle Inventor', 'level': 'Level'},\n",
    "                axis=1, inplace=True)"
   ]
  },
  {
   "cell_type": "code",
   "execution_count": 18,
   "metadata": {},
   "outputs": [],
   "source": [
    "max_mat_time = for_plot[['Mat. creation', 'Mat. load']].max(axis=1)\n",
    "for_plot['Total'] = max_mat_time + for_plot['Search']"
   ]
  },
  {
   "cell_type": "code",
   "execution_count": 19,
   "metadata": {},
   "outputs": [
    {
     "data": {
      "text/plain": [
       "12"
      ]
     },
     "execution_count": 19,
     "metadata": {},
     "output_type": "execute_result"
    }
   ],
   "source": [
    "groups_len = len(for_plot.groupby('Problem'))\n",
    "groups_len"
   ]
  },
  {
   "cell_type": "code",
   "execution_count": 20,
   "metadata": {},
   "outputs": [],
   "source": [
    "plot_cols = 3"
   ]
  },
  {
   "cell_type": "markdown",
   "metadata": {},
   "source": [
    "In the plot below, we compare synthesis times for several benchmarks under the two (or three, if there are conditionals in the sketch) synthesis grammers used by Swizzle Inventor.\n",
    "\n",
    "We have\n",
    "\n",
    "- The Restricted grammar (R), or Level 1, where the swizzles have to grouping or wrapping, and conditionals cannot add or subtract a constant\n",
    "- The Full Conditionals grammer (FC), or Level 2, which is like the Restricted grammar except that conditinoals can now add constants from as mall family of values ($[0, \\pm 1, \\pm N]$)\n",
    "- The Full grammar (F), or Level 3, which enables grouping, wrapping, and other such operations in the swizzle template. Swizzleflow doesn't show much of a performance penalty when using this grammer, while Swizzle Inventor does"
   ]
  },
  {
   "cell_type": "code",
   "execution_count": 21,
   "metadata": {},
   "outputs": [
    {
     "data": {
      "image/png": "[encoded data removed]",
      "text/plain": [
       "<Figure size 792x612 with 12 Axes>"
      ]
     },
     "metadata": {
      "needs_background": "light"
     },
     "output_type": "display_data"
    }
   ],
   "source": [
    "fig, axs = plt.subplots((groups_len + plot_cols - 1) // plot_cols, plot_cols,\n",
    "                       figsize=(11, 8.5))\n",
    "for idx, group in enumerate(for_plot.groupby('Problem')):\n",
    "    name, df = group\n",
    "    ax = axs[idx // plot_cols][idx % plot_cols]\n",
    "    df = df.set_index('Level')\n",
    "    # Fix the order of the level groups, remove if it somehow reverses again\n",
    "    if 'FC' in df.index:\n",
    "        df = df.reindex(['F', 'FC', 'R'])\n",
    "    else:\n",
    "        df = df.reindex(['F', 'R'])\n",
    "    df = df.fillna(35 * 60) # Plot timeouts somehow\n",
    "    # The order of the bars in backwards from how I'd like it, fix that\n",
    "    df = df[[\"Mat. creation\", \"Mat. load\", \"Search\",\n",
    "             \"Total\", \"Swizzle Inventor\"][::-1]]\n",
    "    df.plot(kind='barh', ax=ax, legend=False, logx=True)\n",
    "    ax.set_ylabel('')\n",
    "    #ax.set_xlabel(\"Time (s), log scale\")\n",
    "    ax.set_title(name)\n",
    "for ax in axs[-1]:\n",
    "    ax.set_xlabel(\"Time (s) (log scale)\")\n",
    "handles, labels = axs[-1][-1].get_legend_handles_labels()\n",
    "handles.reverse()\n",
    "labels.reverse()\n",
    "fig.suptitle(\"Synthesis time comparisons\")\n",
    "fig.legend(handles, labels, loc='upper right')\n",
    "fig.tight_layout()\n",
    "# Magic formula for providing space for the legend\n",
    "fig.subplots_adjust(top=0.875, right=0.875)"
   ]
  },
  {
   "cell_type": "code",
   "execution_count": 22,
   "metadata": {},
   "outputs": [],
   "source": [
    "fig.savefig('/tmp/log-synthesis-times.pdf')"
   ]
  },
  {
   "cell_type": "markdown",
   "metadata": {},
   "source": [
    "And now one that isn't log scale to show why we needed that"
   ]
  },
  {
   "cell_type": "code",
   "execution_count": 23,
   "metadata": {},
   "outputs": [
    {
     "data": {
      "image/png": "[encoded data removed]",
      "text/plain": [
       "<Figure size 792x612 with 12 Axes>"
      ]
     },
     "metadata": {
      "needs_background": "light"
     },
     "output_type": "display_data"
    }
   ],
   "source": [
    "fig, axs = plt.subplots((groups_len + plot_cols - 1) // plot_cols, plot_cols,\n",
    "                       figsize=(11, 8.5))\n",
    "for idx, group in enumerate(for_plot.groupby('Problem')):\n",
    "    name, df = group\n",
    "    ax = axs[idx // plot_cols][idx % plot_cols]\n",
    "    df = df.set_index('Level')\n",
    "    # Fix the order of the level groups, remove if it somehow reverses again\n",
    "    if 'FC' in df.index:\n",
    "        df = df.reindex(['F', 'FC', 'R'])\n",
    "    else:\n",
    "        df = df.reindex(['F', 'R'])\n",
    "    df = df.fillna(35 * 60) # Plot timeouts somehow\n",
    "    # The order of the bars in backwards from how I'd like it, fix that\n",
    "    df = df[[\"Mat. creation\", \"Mat. load\", \"Search\",\n",
    "             \"Total\", \"Swizzle Inventor\"][::-1]]\n",
    "    df.plot(kind='barh', ax=ax, legend=False)\n",
    "    ax.set_ylabel('')\n",
    "    #ax.set_xlabel(\"Time (s), log scale\")\n",
    "    ax.set_title(name)\n",
    "for ax in axs[-1]:\n",
    "    ax.set_xlabel(\"Time (s) (log scale)\")\n",
    "handles, labels = axs[-1][-1].get_legend_handles_labels()\n",
    "handles.reverse()\n",
    "labels.reverse()\n",
    "fig.suptitle(\"Synthesis time comparisons\")\n",
    "fig.legend(handles, labels, loc='upper right')\n",
    "fig.tight_layout()\n",
    "# Magic formula for providing space for the legend\n",
    "fig.subplots_adjust(top=0.875, right=0.875)"
   ]
  },
  {
   "cell_type": "code",
   "execution_count": 24,
   "metadata": {},
   "outputs": [],
   "source": [
    "fig.savefig('/tmp/synthesis-times.pdf')"
   ]
  },
  {
   "cell_type": "markdown",
   "metadata": {},
   "source": [
    "## Getting a handle on our matrix multiplications\n",
    "\n",
    "At this ponit, we'd like to get a sense on how matrix multiply timings (which dominate our search) are related to sapects of the problem. There's a few quick plots I can whip up."
   ]
  },
  {
   "cell_type": "code",
   "execution_count": 25,
   "metadata": {},
   "outputs": [],
   "source": [
    "matrix_info_frame = pull_spec_in(extraction.matrix_stats(stats_raw))"
   ]
  },
  {
   "cell_type": "code",
   "execution_count": 26,
   "metadata": {},
   "outputs": [],
   "source": [
    "multiply_stats = matrix_info_frame[matrix_info_frame[\"category\"] == \"mul\"].copy()\n",
    "multiply_stats.drop(\"category\", axis=1, inplace=True)"
   ]
  },
  {
   "cell_type": "code",
   "execution_count": 27,
   "metadata": {},
   "outputs": [
    {
     "data": {
      "text/plain": [
       "spec\n",
       "l3/trove-rcr-5       91.963494\n",
       "l3/trove-crc-5       50.665804\n",
       "l3/2d-stencil-5      95.647482\n",
       "l1/trove-rcr-5       86.513747\n",
       "l1/trove-crc-5       45.348946\n",
       "l1/2d-stencil-5      80.692389\n",
       "l2/1d-stencil         0.997190\n",
       "l2/2d-stencil-3       3.210895\n",
       "l2/1d-conv           -0.000927\n",
       "l2/mult-32-with-4     0.001746\n",
       "l3/trove-crc-3       11.218566\n",
       "l3/trove-crc-1        0.011647\n",
       "l3/trove-crc-4       21.343343\n",
       "l3/1d-stencil         0.927098\n",
       "l3/2d-stencil-3       3.183114\n",
       "l3/trove-rcr-3        9.125789\n",
       "l3/trove-cr_sum-3     0.943758\n",
       "l3/trove-rcr-1        0.058869\n",
       "l3/1d-conv           -0.000183\n",
       "l3/trove-rcr-4       41.580318\n",
       "l3/trove-cr_sum-1    -0.000250\n",
       "l3/mult-32-with-4     0.000697\n",
       "l3/trove-cr_sum-4     1.687039\n",
       "l3/trove-rcr-2        1.374423\n",
       "l3/trove-cr_sum-2     0.328950\n",
       "l3/trove-cr_sum-5     3.931508\n",
       "l3/trove-crc-2        1.650597\n",
       "l1/trove-crc-3       10.874834\n",
       "l1/trove-crc-1        0.010122\n",
       "l1/trove-crc-4       40.651299\n",
       "l1/trove-cr_sum-7    13.830408\n",
       "l1/1d-stencil         0.893351\n",
       "l1/2d-stencil-3       0.286812\n",
       "l1/trove-rcr-3        8.123991\n",
       "l1/trove-cr_sum-3     0.972492\n",
       "l1/trove-rcr-1        0.048278\n",
       "l1/1d-conv           -0.000059\n",
       "l1/trove-rcr-4       37.351708\n",
       "l1/trove-cr_sum-1    -0.000010\n",
       "l1/mult-32-with-4     0.001608\n",
       "l1/trove-cr_sum-4     1.947772\n",
       "l1/trove-rcr-2        1.528530\n",
       "l1/trove-cr_sum-2     0.342710\n",
       "l1/trove-cr_sum-5     3.956880\n",
       "l1/trove-crc-2        1.717370\n",
       "Name: matrix time, dtype: float64"
      ]
     },
     "execution_count": 27,
     "metadata": {},
     "output_type": "execute_result"
    }
   ],
   "source": [
    "# Let's do that quick check on whether the stat collection affected times\n",
    "stats_variations = timing.process(stats_raw)['matrix time']\\\n",
    "    - multiply_times['matrix time']\n",
    "stats_variations"
   ]
  },
  {
   "cell_type": "markdown",
   "metadata": {},
   "source": [
    "From the above, it's clear that the process of getting more detailed information about our multiplication has a speed penalty in a lot of cases, so we'll need to use the timings from the stats-free set of benchmarks"
   ]
  },
  {
   "cell_type": "code",
   "execution_count": 28,
   "metadata": {},
   "outputs": [
    {
     "data": {
      "text/html": [
       "<div>\n",
       "<style scoped>\n",
       "    .dataframe tbody tr th:only-of-type {\n",
       "        vertical-align: middle;\n",
       "    }\n",
       "\n",
       "    .dataframe tbody tr th {\n",
       "        vertical-align: top;\n",
       "    }\n",
       "\n",
       "    .dataframe thead th {\n",
       "        text-align: right;\n",
       "    }\n",
       "</style>\n",
       "<table border=\"1\" class=\"dataframe\">\n",
       "  <thead>\n",
       "    <tr style=\"text-align: right;\">\n",
       "      <th></th>\n",
       "      <th>n_ones</th>\n",
       "      <th>n_elems</th>\n",
       "      <th>in_slots</th>\n",
       "      <th>out_slots</th>\n",
       "      <th>density</th>\n",
       "      <th>spec</th>\n",
       "      <th>time</th>\n",
       "    </tr>\n",
       "    <tr>\n",
       "      <th>key</th>\n",
       "      <th></th>\n",
       "      <th></th>\n",
       "      <th></th>\n",
       "      <th></th>\n",
       "      <th></th>\n",
       "      <th></th>\n",
       "      <th></th>\n",
       "    </tr>\n",
       "  </thead>\n",
       "  <tbody>\n",
       "    <tr>\n",
       "      <th>matrices/32,5-col_rots_32,5-col_xforms-32,5</th>\n",
       "      <td>24592394</td>\n",
       "      <td>655360000</td>\n",
       "      <td>160</td>\n",
       "      <td>160</td>\n",
       "      <td>0.037525</td>\n",
       "      <td>l3/trove-rcr-5</td>\n",
       "      <td>97.633074</td>\n",
       "    </tr>\n",
       "    <tr>\n",
       "      <th>matrices/32,5-col_rots_32,5-col_xforms_32,5-row_rots-32,5</th>\n",
       "      <td>122961970</td>\n",
       "      <td>655360000</td>\n",
       "      <td>160</td>\n",
       "      <td>160</td>\n",
       "      <td>0.187625</td>\n",
       "      <td>l3/trove-rcr-5</td>\n",
       "      <td>40.627363</td>\n",
       "    </tr>\n",
       "    <tr>\n",
       "      <th>matrices/32,5-col_rots_32,5-col_xforms_32,5-row_rots_32,5-row_xforms-32,5</th>\n",
       "      <td>606086220</td>\n",
       "      <td>655360000</td>\n",
       "      <td>160</td>\n",
       "      <td>160</td>\n",
       "      <td>0.924814</td>\n",
       "      <td>l3/trove-rcr-5</td>\n",
       "      <td>44.172051</td>\n",
       "    </tr>\n",
       "    <tr>\n",
       "      <th>matrices/32,5-col_rots_32,5-col_xforms_32,5-row_rots_32,5-row_xforms_32,5-col_rots-32,5</th>\n",
       "      <td>631057500</td>\n",
       "      <td>655360000</td>\n",
       "      <td>160</td>\n",
       "      <td>160</td>\n",
       "      <td>0.962917</td>\n",
       "      <td>l3/trove-rcr-5</td>\n",
       "      <td>42.149255</td>\n",
       "    </tr>\n",
       "    <tr>\n",
       "      <th>matrices/32,5-row_rots_32,5-row_xforms-32,5</th>\n",
       "      <td>627000</td>\n",
       "      <td>655360000</td>\n",
       "      <td>160</td>\n",
       "      <td>160</td>\n",
       "      <td>0.000957</td>\n",
       "      <td>l3/trove-crc-5</td>\n",
       "      <td>18.513864</td>\n",
       "    </tr>\n",
       "  </tbody>\n",
       "</table>\n",
       "</div>"
      ],
      "text/plain": [
       "                                                       n_ones    n_elems  \\\n",
       "key                                                                        \n",
       "matrices/32,5-col_rots_32,5-col_xforms-32,5          24592394  655360000   \n",
       "matrices/32,5-col_rots_32,5-col_xforms_32,5-row...  122961970  655360000   \n",
       "matrices/32,5-col_rots_32,5-col_xforms_32,5-row...  606086220  655360000   \n",
       "matrices/32,5-col_rots_32,5-col_xforms_32,5-row...  631057500  655360000   \n",
       "matrices/32,5-row_rots_32,5-row_xforms-32,5            627000  655360000   \n",
       "\n",
       "                                                    in_slots  out_slots  \\\n",
       "key                                                                       \n",
       "matrices/32,5-col_rots_32,5-col_xforms-32,5              160        160   \n",
       "matrices/32,5-col_rots_32,5-col_xforms_32,5-row...       160        160   \n",
       "matrices/32,5-col_rots_32,5-col_xforms_32,5-row...       160        160   \n",
       "matrices/32,5-col_rots_32,5-col_xforms_32,5-row...       160        160   \n",
       "matrices/32,5-row_rots_32,5-row_xforms-32,5              160        160   \n",
       "\n",
       "                                                     density            spec  \\\n",
       "key                                                                            \n",
       "matrices/32,5-col_rots_32,5-col_xforms-32,5         0.037525  l3/trove-rcr-5   \n",
       "matrices/32,5-col_rots_32,5-col_xforms_32,5-row...  0.187625  l3/trove-rcr-5   \n",
       "matrices/32,5-col_rots_32,5-col_xforms_32,5-row...  0.924814  l3/trove-rcr-5   \n",
       "matrices/32,5-col_rots_32,5-col_xforms_32,5-row...  0.962917  l3/trove-rcr-5   \n",
       "matrices/32,5-row_rots_32,5-row_xforms-32,5         0.000957  l3/trove-crc-5   \n",
       "\n",
       "                                                         time  \n",
       "key                                                            \n",
       "matrices/32,5-col_rots_32,5-col_xforms-32,5         97.633074  \n",
       "matrices/32,5-col_rots_32,5-col_xforms_32,5-row...  40.627363  \n",
       "matrices/32,5-col_rots_32,5-col_xforms_32,5-row...  44.172051  \n",
       "matrices/32,5-col_rots_32,5-col_xforms_32,5-row...  42.149255  \n",
       "matrices/32,5-row_rots_32,5-row_xforms-32,5         18.513864  "
      ]
     },
     "execution_count": 28,
     "metadata": {},
     "output_type": "execute_result"
    }
   ],
   "source": [
    "low_stat_records = pull_spec_in(extraction.matrix_stats(multiplies_raw))\n",
    "low_stat_records = low_stat_records[low_stat_records[\"category\"] == \"mul\"]\n",
    "stats_times =\\\n",
    "    multiply_stats.drop(\"time\", axis=1).set_index(\"key\")\\\n",
    "    .join(low_stat_records[[\"key\", \"time\"]].set_index(\"key\"),\n",
    "            on=\"key\", how='inner')\n",
    "assert(len(stats_times) == len(multiply_stats))\n",
    "stats_times.head()"
   ]
  },
  {
   "cell_type": "markdown",
   "metadata": {},
   "source": [
    "Now that we have the times, let's eyeball some hypotheses."
   ]
  },
  {
   "cell_type": "markdown",
   "metadata": {},
   "source": [
    "Hypothesis 1: The number of 1s in a matrix is correlated with multiplication time"
   ]
  },
  {
   "cell_type": "code",
   "execution_count": 29,
   "metadata": {},
   "outputs": [
    {
     "data": {
      "text/plain": [
       "<matplotlib.axes._subplots.AxesSubplot at 0x7f3ff767e910>"
      ]
     },
     "execution_count": 29,
     "metadata": {},
     "output_type": "execute_result"
    },
    {
     "data": {
      "image/png": "[encoded data removed]",
      "text/plain": [
       "<Figure size 432x288 with 1 Axes>"
      ]
     },
     "metadata": {
      "needs_background": "light"
     },
     "output_type": "display_data"
    }
   ],
   "source": [
    "stats_times.plot(x='n_ones', y='time', kind='scatter')"
   ]
  },
  {
   "cell_type": "code",
   "execution_count": 30,
   "metadata": {},
   "outputs": [
    {
     "data": {
      "text/plain": [
       "<matplotlib.axes._subplots.AxesSubplot at 0x7f3ff8b12d10>"
      ]
     },
     "execution_count": 30,
     "metadata": {},
     "output_type": "execute_result"
    },
    {
     "data": {
      "image/png": "[encoded data removed]",
      "text/plain": [
       "<Figure size 432x288 with 1 Axes>"
      ]
     },
     "metadata": {
      "needs_background": "light"
     },
     "output_type": "display_data"
    }
   ],
   "source": [
    "stats_times.plot(x='n_ones', y='time', kind='scatter', logx=True, logy=True)"
   ]
  },
  {
   "cell_type": "markdown",
   "metadata": {},
   "source": [
    "Eyeball says there might be sometheng there, but you have to go to log-log plots to see it. This could also be the case that bigger matrices have more 1s in them and thes need more time no matter what."
   ]
  },
  {
   "cell_type": "markdown",
   "metadata": {},
   "source": [
    "Hyothesis 2: Multiplication time has some relationship to "
   ]
  },
  {
   "cell_type": "code",
   "execution_count": 31,
   "metadata": {},
   "outputs": [
    {
     "data": {
      "text/plain": [
       "<matplotlib.axes._subplots.AxesSubplot at 0x7f3ff83f1bd0>"
      ]
     },
     "execution_count": 31,
     "metadata": {},
     "output_type": "execute_result"
    },
    {
     "data": {
      "image/png": "[encoded data removed]",
      "text/plain": [
       "<Figure size 432x288 with 1 Axes>"
      ]
     },
     "metadata": {
      "needs_background": "light"
     },
     "output_type": "display_data"
    }
   ],
   "source": [
    "stats_times.plot(kind='scatter', x='n_elems', y='time')"
   ]
  },
  {
   "cell_type": "markdown",
   "metadata": {},
   "source": [
    "**TODO** Matrix multiply time is a function of properties (the density, etc) of the _input_, and we currently only have info for the _output_ matrix. We can reconstruct the input info because we have all the relevant rows (as either `build`s or `loads`s), but getting that working is not a 1 AM sort of thing.\n",
    "\n",
    "So I'm going to leave myself this note and add a reminded to the weekly agenda so that this happens afther the talk."
   ]
  },
  {
   "cell_type": "code",
   "execution_count": null,
   "metadata": {},
   "outputs": [],
   "source": []
  }
 ],
 "metadata": {
  "kernelspec": {
   "display_name": "Python 3",
   "language": "python",
   "name": "python3"
  },
  "language_info": {
   "codemirror_mode": {
    "name": "ipython",
    "version": 3
   },
   "file_extension": ".py",
   "mimetype": "text/x-python",
   "name": "python",
   "nbconvert_exporter": "python",
   "pygments_lexer": "ipython3",
   "version": "3.7.5"
  }
 },
 "nbformat": 4,
 "nbformat_minor": 4
}
